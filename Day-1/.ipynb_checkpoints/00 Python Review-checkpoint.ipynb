{
 "cells": [
  {
   "cell_type": "markdown",
   "metadata": {},
   "source": [
    "# Introduction to Python"
   ]
  },
  {
   "cell_type": "markdown",
   "metadata": {},
   "source": [
    "## Table of Contents\n",
    "1. Python Variables\n",
    "2. Keywords and Identifiers\n",
    "3. Data Types\n",
    "4. Flow Control\n",
    "5. Functions\n",
    "6. Recursive Functions"
   ]
  },
  {
   "cell_type": "markdown",
   "metadata": {},
   "source": [
    "## Python Variables"
   ]
  },
  {
   "cell_type": "code",
   "execution_count": 6,
   "metadata": {},
   "outputs": [
    {
     "name": "stdout",
     "output_type": "stream",
     "text": [
      "100\n",
      "Gonzalez\n"
     ]
    }
   ],
   "source": [
    "# Variables\n",
    "num = 100\n",
    "str = \"Gonzalez\"\n",
    "print(num)\n",
    "print(str)"
   ]
  },
  {
   "cell_type": "code",
   "execution_count": 7,
   "metadata": {},
   "outputs": [
    {
     "name": "stdout",
     "output_type": "stream",
     "text": [
      "99\n",
      "99\n",
      "99\n"
     ]
    }
   ],
   "source": [
    "# Multiple Assignment\n",
    "x = y = z = 99\n",
    "print(x)\n",
    "print(y)\n",
    "print(z)"
   ]
  },
  {
   "cell_type": "code",
   "execution_count": 8,
   "metadata": {},
   "outputs": [
    {
     "name": "stdout",
     "output_type": "stream",
     "text": [
      "5\n",
      "6\n",
      "7\n"
     ]
    }
   ],
   "source": [
    "# Multiple Assignment\n",
    "a, b, c = 5, 6, 7\n",
    "print(a)\n",
    "print(b)\n",
    "print(c)"
   ]
  },
  {
   "cell_type": "markdown",
   "metadata": {},
   "source": [
    "## Builtin Functions, Keywords, and Identifiers"
   ]
  },
  {
   "cell_type": "code",
   "execution_count": 1,
   "metadata": {},
   "outputs": [
    {
     "name": "stdout",
     "output_type": "stream",
     "text": [
      "\n",
      "Here is a list of the Python keywords.  Enter any keyword to get more help.\n",
      "\n",
      "False               def                 if                  raise\n",
      "None                del                 import              return\n",
      "True                elif                in                  try\n",
      "and                 else                is                  while\n",
      "as                  except              lambda              with\n",
      "assert              finally             nonlocal            yield\n",
      "break               for                 not                 \n",
      "class               from                or                  \n",
      "continue            global              pass                \n",
      "\n"
     ]
    }
   ],
   "source": [
    "help('keywords')\n",
    "#help('collections')"
   ]
  },
  {
   "cell_type": "code",
   "execution_count": 5,
   "metadata": {},
   "outputs": [
    {
     "name": "stdout",
     "output_type": "stream",
     "text": [
      "\n",
      "Here is a list of available topics.  Enter any topic name to get more help.\n",
      "\n",
      "ASSERTION           DELETION            LOOPING             SHIFTING\n",
      "ASSIGNMENT          DICTIONARIES        MAPPINGMETHODS      SLICINGS\n",
      "ATTRIBUTEMETHODS    DICTIONARYLITERALS  MAPPINGS            SPECIALATTRIBUTES\n",
      "ATTRIBUTES          DYNAMICFEATURES     METHODS             SPECIALIDENTIFIERS\n",
      "AUGMENTEDASSIGNMENT ELLIPSIS            MODULES             SPECIALMETHODS\n",
      "BASICMETHODS        EXCEPTIONS          NAMESPACES          STRINGMETHODS\n",
      "BINARY              EXECUTION           NONE                STRINGS\n",
      "BITWISE             EXPRESSIONS         NUMBERMETHODS       SUBSCRIPTS\n",
      "BOOLEAN             FLOAT               NUMBERS             TRACEBACKS\n",
      "CALLABLEMETHODS     FORMATTING          OBJECTS             TRUTHVALUE\n",
      "CALLS               FRAMEOBJECTS        OPERATORS           TUPLELITERALS\n",
      "CLASSES             FRAMES              PACKAGES            TUPLES\n",
      "CODEOBJECTS         FUNCTIONS           POWER               TYPEOBJECTS\n",
      "COMPARISON          IDENTIFIERS         PRECEDENCE          TYPES\n",
      "COMPLEX             IMPORTING           PRIVATENAMES        UNARY\n",
      "CONDITIONAL         INTEGER             RETURNING           UNICODE\n",
      "CONTEXTMANAGERS     LISTLITERALS        SCOPING             \n",
      "CONVERSIONS         LISTS               SEQUENCEMETHODS     \n",
      "DEBUGGING           LITERALS            SEQUENCES           \n",
      "\n"
     ]
    }
   ],
   "source": [
    "help('topics')"
   ]
  },
  {
   "cell_type": "code",
   "execution_count": null,
   "metadata": {},
   "outputs": [],
   "source": [
    "help('Builtins')"
   ]
  },
  {
   "cell_type": "markdown",
   "metadata": {},
   "source": [
    "## Data Types"
   ]
  },
  {
   "cell_type": "markdown",
   "metadata": {},
   "source": [
    "### Numbers"
   ]
  },
  {
   "cell_type": "code",
   "execution_count": 10,
   "metadata": {},
   "outputs": [
    {
     "name": "stdout",
     "output_type": "stream",
     "text": [
      "110\n"
     ]
    }
   ],
   "source": [
    "# Integers\n",
    "num1 = 10\n",
    "num2 = 100\n",
    "print(num1+num2)"
   ]
  },
  {
   "cell_type": "code",
   "execution_count": 11,
   "metadata": {},
   "outputs": [
    {
     "name": "stdout",
     "output_type": "stream",
     "text": [
      "1.5999999999999996\n"
     ]
    }
   ],
   "source": [
    "# Float Numbers\n",
    "a = 10.5\n",
    "b = 8.9\n",
    "print(a-b)"
   ]
  },
  {
   "cell_type": "code",
   "execution_count": 12,
   "metadata": {},
   "outputs": [
    {
     "name": "stdout",
     "output_type": "stream",
     "text": [
      "(6+4j)\n"
     ]
    }
   ],
   "source": [
    "# Complex Numbers\n",
    "x = 3 + 4j\n",
    "y = 9 + 8j\n",
    "print(y-x)"
   ]
  },
  {
   "cell_type": "code",
   "execution_count": 13,
   "metadata": {},
   "outputs": [
    {
     "name": "stdout",
     "output_type": "stream",
     "text": [
      "type of num:  <class 'int'>\n",
      "type of num2:  <class 'float'>\n",
      "type of num3:  <class 'complex'>\n"
     ]
    }
   ],
   "source": [
    "# Finding the Class (data type) of a number\n",
    "\n",
    "# int\n",
    "num = 100\n",
    "print(\"type of num: \",type(num))\n",
    "\n",
    "# float\n",
    "num2 = 10.99\n",
    "print(\"type of num2: \",type(num2))\n",
    "\n",
    "# complex numbers\n",
    "num3 = 3 + 4j\n",
    "print(\"type of num3: \",type(num3))"
   ]
  },
  {
   "cell_type": "code",
   "execution_count": 15,
   "metadata": {},
   "outputs": [
    {
     "name": "stdout",
     "output_type": "stream",
     "text": [
      "True\n",
      "False\n",
      "False\n"
     ]
    }
   ],
   "source": [
    "# Checks whether a number belongs to a particular class and returns true or false based on the result.\n",
    "\n",
    "num = 100\n",
    "# true because num is an integer\n",
    "print(isinstance(num, int))\n",
    "\n",
    "# false because num is not a float\n",
    "print(isinstance(num, float))\n",
    "\n",
    "# false because num is not a complex number\n",
    "print(isinstance(num, complex))"
   ]
  },
  {
   "cell_type": "markdown",
   "metadata": {},
   "source": [
    "### Lists"
   ]
  },
  {
   "cell_type": "code",
   "execution_count": 53,
   "metadata": {},
   "outputs": [],
   "source": [
    "# Creating a List\n",
    "\n",
    "# To create a list all you have to do is to place the items inside a square bracket [] separated by comma ,.\n",
    "\n",
    "# list of floats\n",
    "num_list = [11.22, 9.9, 78.34, 12.0]\n",
    "\n",
    "# list of int, float and strings\n",
    "mix_list = [1.13, 2, 5, \"itesm\", 100, \"hi\"]\n",
    "\n",
    "# an empty list\n",
    "nodata_list = []"
   ]
  },
  {
   "cell_type": "code",
   "execution_count": 54,
   "metadata": {},
   "outputs": [
    {
     "name": "stdout",
     "output_type": "stream",
     "text": [
      "[11.22, 9.9, 78.34, 12.0]\n",
      "[1.13, 2, 5, 'itesm', 100, 'hi']\n",
      "[]\n"
     ]
    }
   ],
   "source": [
    "# Printing a List\n",
    "print(num_list)\n",
    "print(mix_list)\n",
    "print(nodata_list)"
   ]
  },
  {
   "cell_type": "code",
   "execution_count": 20,
   "metadata": {},
   "outputs": [
    {
     "name": "stdout",
     "output_type": "stream",
     "text": [
      "4\n",
      "6\n",
      "0\n"
     ]
    }
   ],
   "source": [
    "# Check the number of elements for each list\n",
    "print(len(num_list))\n",
    "print(len(mix_list))\n",
    "print(len(nodata_list))"
   ]
  },
  {
   "cell_type": "code",
   "execution_count": 21,
   "metadata": {},
   "outputs": [
    {
     "name": "stdout",
     "output_type": "stream",
     "text": [
      "11\n",
      "300\n",
      "22\n"
     ]
    }
   ],
   "source": [
    "# Accesing the items of a list\n",
    "\n",
    "# a list of numbers\n",
    "numbers = [11, 22, 33, 100, 200, 300]\n",
    "\n",
    "# prints 11\n",
    "print(numbers[0])\n",
    "\n",
    "# prints 300\n",
    "print(numbers[5])\n",
    "\n",
    "# prints 22\n",
    "print(numbers[1])"
   ]
  },
  {
   "cell_type": "code",
   "execution_count": 23,
   "metadata": {},
   "outputs": [
    {
     "ename": "TypeError",
     "evalue": "list indices must be integers or slices, not float",
     "output_type": "error",
     "traceback": [
      "\u001b[0;31m---------------------------------------------------------------------------\u001b[0m",
      "\u001b[0;31mTypeError\u001b[0m                                 Traceback (most recent call last)",
      "\u001b[0;32m<ipython-input-23-5584216ded87>\u001b[0m in \u001b[0;36m<module>\u001b[0;34m\u001b[0m\n\u001b[1;32m      5\u001b[0m \u001b[0;34m\u001b[0m\u001b[0m\n\u001b[1;32m      6\u001b[0m \u001b[0;31m# error\u001b[0m\u001b[0;34m\u001b[0m\u001b[0;34m\u001b[0m\u001b[0;34m\u001b[0m\u001b[0m\n\u001b[0;32m----> 7\u001b[0;31m \u001b[0mprint\u001b[0m\u001b[0;34m(\u001b[0m\u001b[0mnumbers\u001b[0m\u001b[0;34m[\u001b[0m\u001b[0;36m1.0\u001b[0m\u001b[0;34m]\u001b[0m\u001b[0;34m)\u001b[0m\u001b[0;34m\u001b[0m\u001b[0;34m\u001b[0m\u001b[0m\n\u001b[0m",
      "\u001b[0;31mTypeError\u001b[0m: list indices must be integers or slices, not float"
     ]
    }
   ],
   "source": [
    "# Common Errors - Using a float number to access an Index\n",
    "\n",
    "# a list of numbers\n",
    "numbers = [11, 22, 33, 100, 200, 300]\n",
    "\n",
    "# error\n",
    "print(numbers[1.0])"
   ]
  },
  {
   "cell_type": "code",
   "execution_count": 24,
   "metadata": {},
   "outputs": [
    {
     "ename": "IndexError",
     "evalue": "list index out of range",
     "output_type": "error",
     "traceback": [
      "\u001b[0;31m---------------------------------------------------------------------------\u001b[0m",
      "\u001b[0;31mIndexError\u001b[0m                                Traceback (most recent call last)",
      "\u001b[0;32m<ipython-input-24-535ec0164d32>\u001b[0m in \u001b[0;36m<module>\u001b[0;34m\u001b[0m\n\u001b[1;32m      5\u001b[0m \u001b[0;34m\u001b[0m\u001b[0m\n\u001b[1;32m      6\u001b[0m \u001b[0;31m# error\u001b[0m\u001b[0;34m\u001b[0m\u001b[0;34m\u001b[0m\u001b[0;34m\u001b[0m\u001b[0m\n\u001b[0;32m----> 7\u001b[0;31m \u001b[0mprint\u001b[0m\u001b[0;34m(\u001b[0m\u001b[0mnumbers\u001b[0m\u001b[0;34m[\u001b[0m\u001b[0;36m6\u001b[0m\u001b[0;34m]\u001b[0m\u001b[0;34m)\u001b[0m\u001b[0;34m\u001b[0m\u001b[0;34m\u001b[0m\u001b[0m\n\u001b[0m",
      "\u001b[0;31mIndexError\u001b[0m: list index out of range"
     ]
    }
   ],
   "source": [
    "# Common Errors - Accessing an index out of range\n",
    "\n",
    "# a list of numbers\n",
    "numbers = [11, 22, 33, 100, 200, 300]\n",
    "\n",
    "# error\n",
    "print(numbers[6])"
   ]
  },
  {
   "cell_type": "code",
   "execution_count": 25,
   "metadata": {},
   "outputs": [
    {
     "name": "stdout",
     "output_type": "stream",
     "text": [
      "bye\n",
      "world\n",
      "hello\n"
     ]
    }
   ],
   "source": [
    "# Negative Index to access the list items from the end\n",
    "\n",
    "# a list of strings\n",
    "my_list = [\"hello\", \"world\", \"hi\", \"bye\"]\n",
    "\n",
    "# prints \"bye\"\n",
    "print(my_list[-1])\n",
    "\n",
    "# prints \"world\"\n",
    "print(my_list[-3])\n",
    "\n",
    "# prints \"hello\"\n",
    "print(my_list[-4])"
   ]
  },
  {
   "cell_type": "code",
   "execution_count": 26,
   "metadata": {},
   "outputs": [
    {
     "name": "stdout",
     "output_type": "stream",
     "text": [
      "[2, 3]\n",
      "[1, 2, 3]\n",
      "[4, 5, 6, 7]\n",
      "[1, 2, 3, 4, 5, 6, 7]\n"
     ]
    }
   ],
   "source": [
    "# Getting a sublist in Python using slicing\n",
    "\n",
    "# list of numbers\n",
    "n_list = [1, 2, 3, 4, 5, 6, 7]\n",
    "\n",
    "# list items from 2nd to 3rd\n",
    "print(n_list[1:3])\n",
    "\n",
    "# list items from beginning to 3rd\n",
    "print(n_list[:3])\n",
    "\n",
    "# list items from 4th to end of list\n",
    "print(n_list[3:])\n",
    "\n",
    "# Whole list\n",
    "print(n_list[:])"
   ]
  },
  {
   "cell_type": "code",
   "execution_count": 27,
   "metadata": {},
   "outputs": [
    {
     "name": "stdout",
     "output_type": "stream",
     "text": [
      "[1, 2, 3, 100, 4]\n",
      "[1, 2, 3, 100, 4, 99]\n",
      "[1, 2, 3, 100, 4, 99, 11, 22]\n"
     ]
    }
   ],
   "source": [
    "# List Operations - Adding new elements to List\n",
    "\n",
    "# list of numbers\n",
    "n_list = [1, 2, 3, 4]\n",
    "\n",
    "# 1. adding item at the desired location\n",
    "# adding element 100 at the fourth location\n",
    "n_list.insert(3, 100)\n",
    "\n",
    "# list: [1, 2, 3, 100, 4]\n",
    "print(n_list)\n",
    "\n",
    "# 2. adding element at the end of the list\n",
    "n_list.append(99)\n",
    "\n",
    "# list: [1, 2, 3, 100, 4, 99]\n",
    "print(n_list)\n",
    "\n",
    "# 3. adding several elements at the end of list\n",
    "# the following statement can also be written like this:\n",
    "# n_list + [11, 22]\n",
    "n_list.extend([11, 22])\n",
    "\n",
    "# list: [1, 2, 3, 100, 4, 99, 11, 22]\n",
    "print(n_list)"
   ]
  },
  {
   "cell_type": "code",
   "execution_count": 28,
   "metadata": {},
   "outputs": [
    {
     "name": "stdout",
     "output_type": "stream",
     "text": [
      "[1, 2, 100, 4]\n",
      "[1, 11, 22, 33]\n"
     ]
    }
   ],
   "source": [
    "# List Operations - Updating elements in a list\n",
    "\n",
    "# list of numbers\n",
    "n_list = [1, 2, 3, 4]\n",
    "\n",
    "# Changing the value of 3rd item\n",
    "n_list[2] = 100\n",
    "\n",
    "# list: [1, 2, 100, 4]\n",
    "print(n_list)\n",
    "\n",
    "# Changing the values of 2nd to fourth items\n",
    "n_list[1:4] = [11, 22, 33]\n",
    "\n",
    "# list: [1, 11, 22, 33]\n",
    "print(n_list)"
   ]
  },
  {
   "cell_type": "code",
   "execution_count": 29,
   "metadata": {},
   "outputs": [
    {
     "name": "stdout",
     "output_type": "stream",
     "text": [
      "[1, 3, 4, 5, 6]\n",
      "[1, 3, 6]\n"
     ]
    }
   ],
   "source": [
    "# List Operations - Deleting elements in a list\n",
    "\n",
    "# list of numbers\n",
    "n_list = [1, 2, 3, 4, 5, 6]\n",
    "\n",
    "# Deleting 2nd element\n",
    "del n_list[1]\n",
    "\n",
    "# list: [1, 3, 4, 5, 6]\n",
    "print(n_list)\n",
    "\n",
    "# Deleting elements from 3rd to 4th\n",
    "del n_list[2:4]\n",
    "\n",
    "# list: [1, 3, 6]\n",
    "print(n_list)\n",
    "\n",
    "# Deleting the whole list\n",
    "del n_list"
   ]
  },
  {
   "cell_type": "code",
   "execution_count": 30,
   "metadata": {},
   "outputs": [
    {
     "name": "stdout",
     "output_type": "stream",
     "text": [
      "['A', 'F', 'Z', 'O', 'L']\n",
      "['A', 'Z', 'O', 'L']\n",
      "[]\n"
     ]
    }
   ],
   "source": [
    "# List Operations - Deleting elements using remove(), pop() and clear() methods\n",
    "# remove(item): Removes specified item from list.\n",
    "# pop(index): Removes the element from the given index.\n",
    "# pop(): Removes the last element.\n",
    "# clear(): Removes all the elements from the list.\n",
    "\n",
    "# list of chars\n",
    "ch_list = ['A', 'F', 'B', 'Z', 'O', 'L']\n",
    "\n",
    "# Deleting the element with value 'B'\n",
    "ch_list.remove('B')\n",
    "\n",
    "# list: ['A', 'F', 'Z', 'O', 'L']\n",
    "print(ch_list)\n",
    "\n",
    "# Deleting 2nd element\n",
    "ch_list.pop(1)\n",
    "\n",
    "# list: ['A', 'Z', 'O', 'L']\n",
    "print(ch_list)\n",
    "\n",
    "# Deleting all the elements\n",
    "ch_list.clear()\n",
    "\n",
    "# list: []\n",
    "print(ch_list)"
   ]
  },
  {
   "cell_type": "markdown",
   "metadata": {},
   "source": [
    "### Strings"
   ]
  },
  {
   "cell_type": "code",
   "execution_count": 52,
   "metadata": {},
   "outputs": [
    {
     "name": "stdout",
     "output_type": "stream",
     "text": [
      "itesm2020\n",
      "Chaitanya\n",
      "Welcome to \n",
      "   itesm 2020 training\n",
      "This is a tech \n",
      "   blog\n"
     ]
    }
   ],
   "source": [
    "# Creating a String\n",
    "\n",
    "# lets see the ways to create strings in Python\n",
    "str = 'itesm2020'\n",
    "print(str)\n",
    "\n",
    "str2 = \"Chaitanya\"\n",
    "print(str2)\n",
    "\n",
    "# multi-line string\n",
    "str3 = \"\"\"Welcome to \n",
    "   itesm 2020 training\"\"\"\n",
    "print(str3)\n",
    "\n",
    "str4 = '''This is a tech \n",
    "   blog'''\n",
    "print(str4)"
   ]
  },
  {
   "cell_type": "code",
   "execution_count": 32,
   "metadata": {},
   "outputs": [
    {
     "name": "stdout",
     "output_type": "stream",
     "text": [
      "Kevin\n",
      "K\n",
      "v\n",
      "n\n",
      "i\n"
     ]
    }
   ],
   "source": [
    "# Accessing elements in a string\n",
    "str = \"Kevin\"\n",
    "\n",
    "# displaying whole string\n",
    "print(str)\n",
    "\n",
    "# displaying first character of string\n",
    "print(str[0])\n",
    "\n",
    "# displaying third character of string\n",
    "print(str[2])\n",
    "\n",
    "# displaying the last character of the string\n",
    "print(str[-1])\n",
    "\n",
    "# displaying the second last char of string\n",
    "print(str[-2])"
   ]
  },
  {
   "cell_type": "code",
   "execution_count": 33,
   "metadata": {},
   "outputs": [
    {
     "name": "stdout",
     "output_type": "stream",
     "text": [
      "The original string is:  Star Wars is Amazing\n",
      "str[9:]:   is Amazing\n",
      "str[2:6]:  ar W\n",
      "str[:9]:  Star Wars\n",
      "str[9:-1]:   is Amazin\n"
     ]
    }
   ],
   "source": [
    "# String Operations - Slicing operation\n",
    "str = \"Star Wars is Amazing\"\n",
    "\n",
    "# displaying whole string\n",
    "print(\"The original string is: \", str)\n",
    "\n",
    "# slicing 10th to the last character\n",
    "print(\"str[9:]: \", str[9:])\n",
    "\n",
    "# slicing 3rd to 6th character\n",
    "print(\"str[2:6]: \", str[2:6])\n",
    "\n",
    "# slicing from start to the 9th character\n",
    "print(\"str[:9]: \", str[:9])\n",
    "\n",
    "# slicing from 10th to second last character\n",
    "print(\"str[9:-1]: \", str[9:-1])"
   ]
  },
  {
   "cell_type": "code",
   "execution_count": 35,
   "metadata": {},
   "outputs": [
    {
     "name": "stdout",
     "output_type": "stream",
     "text": [
      "OneTwoThree\n"
     ]
    }
   ],
   "source": [
    "# String Operations - Concatenation\n",
    "str1 = \"One\"\n",
    "str2 = \"Two\"\n",
    "str3 = \"Three\"\n",
    "\n",
    "# Concatenation of three strings\n",
    "print(str1 + str2 + str3)"
   ]
  },
  {
   "cell_type": "code",
   "execution_count": 36,
   "metadata": {},
   "outputs": [
    {
     "name": "stdout",
     "output_type": "stream",
     "text": [
      "ABCABCABC\n"
     ]
    }
   ],
   "source": [
    "# String Operations - Repeating a String\n",
    "\n",
    "str = \"ABC\"\n",
    "\n",
    "# repeating the string str by 3 times\n",
    "print(str*3)"
   ]
  },
  {
   "cell_type": "code",
   "execution_count": 51,
   "metadata": {},
   "outputs": [
    {
     "name": "stdout",
     "output_type": "stream",
     "text": [
      "True\n",
      "False\n",
      "True\n"
     ]
    }
   ],
   "source": [
    "# String Operations - Membership Opertions\n",
    "str = \"Welcome to itesm 2020 training\"\n",
    "str2 = \"Welcome\"\n",
    "str3 = \"Chaitanya\"\n",
    "str4 = \"XYZ\"\n",
    "\n",
    "# str2 is in str? True\n",
    "print(str2 in str)\n",
    "\n",
    "# str3 is in str? False\n",
    "print(str3 in str)\n",
    "\n",
    "# str4 not in str? True\n",
    "print(str4 not in str)"
   ]
  },
  {
   "cell_type": "code",
   "execution_count": 38,
   "metadata": {},
   "outputs": [
    {
     "name": "stdout",
     "output_type": "stream",
     "text": [
      "True\n",
      "False\n"
     ]
    }
   ],
   "source": [
    "# String Operations - Relational Operators on Strings\n",
    "# The relational operators works on strings based on the ASCII values of characters.\n",
    "\n",
    "# The ASCII value of a is 97, b is 98 and so on.\n",
    "# The ASCII value of A is 65, B is 66 and so on.\n",
    "\n",
    "str = \"ABC\"\n",
    "str2 = \"aBC\"\n",
    "str3 = \"XYZ\"\n",
    "str4 = \"XYz\"\n",
    "\n",
    "# ASCII value of str2 is > str? True\n",
    "print(str2 > str)\n",
    "\n",
    "# ASCII value of str3 is > str4? False\n",
    "print(str3 > str4)"
   ]
  },
  {
   "cell_type": "markdown",
   "metadata": {},
   "source": [
    "### Dictionaries"
   ]
  },
  {
   "cell_type": "code",
   "execution_count": 41,
   "metadata": {},
   "outputs": [
    {
     "name": "stdout",
     "output_type": "stream",
     "text": [
      "Student Age is: 30\n",
      "Student City is: Agra\n"
     ]
    }
   ],
   "source": [
    "# Creating a dictionary\n",
    "\n",
    "mydict = {'StuName': 'Ajeet', 'StuAge': 30, 'StuCity': 'Agra'}\n",
    "\n",
    "print(\"Student Age is:\", mydict['StuAge'])\n",
    "print(\"Student City is:\", mydict['StuCity'])"
   ]
  },
  {
   "cell_type": "code",
   "execution_count": 42,
   "metadata": {},
   "outputs": [
    {
     "ename": "KeyError",
     "evalue": "'StuClass'",
     "output_type": "error",
     "traceback": [
      "\u001b[0;31m---------------------------------------------------------------------------\u001b[0m",
      "\u001b[0;31mKeyError\u001b[0m                                  Traceback (most recent call last)",
      "\u001b[0;32m<ipython-input-42-abfdbbd35161>\u001b[0m in \u001b[0;36m<module>\u001b[0;34m\u001b[0m\n\u001b[1;32m      1\u001b[0m \u001b[0;31m# Common Errors - Looking for non-existing keys\u001b[0m\u001b[0;34m\u001b[0m\u001b[0;34m\u001b[0m\u001b[0;34m\u001b[0m\u001b[0m\n\u001b[0;32m----> 2\u001b[0;31m \u001b[0mprint\u001b[0m\u001b[0;34m(\u001b[0m\u001b[0;34m\"Student Age is:\"\u001b[0m\u001b[0;34m,\u001b[0m \u001b[0mmydict\u001b[0m\u001b[0;34m[\u001b[0m\u001b[0;34m'StuClass'\u001b[0m\u001b[0;34m]\u001b[0m\u001b[0;34m)\u001b[0m\u001b[0;34m\u001b[0m\u001b[0;34m\u001b[0m\u001b[0m\n\u001b[0m",
      "\u001b[0;31mKeyError\u001b[0m: 'StuClass'"
     ]
    }
   ],
   "source": [
    "# Common Errors - Looking for non-existing keys\n",
    "print(\"Student Age is:\", mydict['StuClass'])"
   ]
  },
  {
   "cell_type": "code",
   "execution_count": 43,
   "metadata": {},
   "outputs": [
    {
     "name": "stdout",
     "output_type": "stream",
     "text": [
      "Student Age before update is: 30\n",
      "Student City before update is: Agra\n",
      "Student Age after update is: 31\n",
      "Student City after update is: Noida\n"
     ]
    }
   ],
   "source": [
    "# Changing values in a Dictionary\n",
    "\n",
    "mydict = {'StuName': 'Ajeet', 'StuAge': 30, 'StuCity': 'Agra'}\n",
    "print(\"Student Age before update is:\", mydict['StuAge'])\n",
    "print(\"Student City before update is:\", mydict['StuCity'])\n",
    "\n",
    "mydict['StuAge'] = 31\n",
    "mydict['StuCity'] = 'Noida'\n",
    "print(\"Student Age after update is:\", mydict['StuAge'])\n",
    "print(\"Student City after update is:\", mydict['StuCity'])"
   ]
  },
  {
   "cell_type": "code",
   "execution_count": 44,
   "metadata": {},
   "outputs": [
    {
     "name": "stdout",
     "output_type": "stream",
     "text": [
      "Student Name is: Steve\n",
      "Student Class is: Jr.KG\n"
     ]
    }
   ],
   "source": [
    "# Adding new key-pair values\n",
    "\n",
    "mydict = {'StuName': 'Steve', 'StuAge': 4, 'StuCity': 'Agra'}\n",
    "mydict['StuClass'] = 'Jr.KG'\n",
    "print(\"Student Name is:\", mydict['StuName'])\n",
    "print(\"Student Class is:\", mydict['StuClass'])"
   ]
  },
  {
   "cell_type": "code",
   "execution_count": 45,
   "metadata": {},
   "outputs": [
    {
     "name": "stdout",
     "output_type": "stream",
     "text": [
      "Key: StuName Value: Steve\n",
      "Key: StuAge Value: 4\n",
      "Key: StuCity Value: Agra\n"
     ]
    }
   ],
   "source": [
    "# Looping through adictionary\n",
    "mydict = {'StuName': 'Steve', 'StuAge': 4, 'StuCity': 'Agra'}\n",
    "for e in mydict:\n",
    "  print(\"Key:\",e,\"Value:\",mydict[e])"
   ]
  },
  {
   "cell_type": "markdown",
   "metadata": {},
   "source": [
    "## Flow Control\n",
    "\n",
    "Define conditions that your program will use for making different executions."
   ]
  },
  {
   "cell_type": "markdown",
   "metadata": {},
   "source": [
    "### Python \"if\" statement\n",
    "\n",
    "Syntax:\n",
    "\n",
    "```\n",
    "if condition:\n",
    "   block_of_code\n",
    "```"
   ]
  },
  {
   "cell_type": "code",
   "execution_count": 49,
   "metadata": {},
   "outputs": [
    {
     "name": "stdout",
     "output_type": "stream",
     "text": [
      "Welcome\n",
      "To\n",
      "ITESM 2020 Training\n"
     ]
    }
   ],
   "source": [
    "# Validating the value of a variable\n",
    "\n",
    "flag = True\n",
    "if flag==True:\n",
    "    print(\"Welcome\")\n",
    "    print(\"To\")\n",
    "    print(\"ITESM 2020 Training\")"
   ]
  },
  {
   "cell_type": "code",
   "execution_count": 56,
   "metadata": {},
   "outputs": [
    {
     "name": "stdout",
     "output_type": "stream",
     "text": [
      "Welcome\n",
      "To\n",
      "ITESM 2020 Training\n"
     ]
    }
   ],
   "source": [
    "# We can obtain the same result using:\n",
    "\n",
    "flag = True\n",
    "if flag:\n",
    "    print(\"Welcome\")\n",
    "    print(\"To\")\n",
    "    print(\"ITESM 2020 Training\")"
   ]
  },
  {
   "cell_type": "code",
   "execution_count": 57,
   "metadata": {},
   "outputs": [],
   "source": [
    "# Validating if the variable is false\n",
    "\n",
    "flag = False\n",
    "if flag:\n",
    "    print(\"You Guys\")\n",
    "    print(\"are\")\n",
    "    print(\"Awesome\")"
   ]
  },
  {
   "cell_type": "code",
   "execution_count": 58,
   "metadata": {},
   "outputs": [
    {
     "name": "stdout",
     "output_type": "stream",
     "text": [
      "num is less than 200\n"
     ]
    }
   ],
   "source": [
    "# Example with numerical Values\n",
    "\n",
    "num = 100\n",
    "if num < 200:\n",
    "    print(\"num is less than 200\")"
   ]
  },
  {
   "cell_type": "markdown",
   "metadata": {},
   "source": [
    "### Python \"if else\" statement\n",
    "\n",
    "Syntax:\n",
    "\n",
    "```\n",
    "if condition:\n",
    "   block_of_code_1\n",
    "else:\n",
    "   block_of_code_2\n",
    "```"
   ]
  },
  {
   "cell_type": "code",
   "execution_count": 60,
   "metadata": {},
   "outputs": [
    {
     "name": "stdout",
     "output_type": "stream",
     "text": [
      "Even Number\n"
     ]
    }
   ],
   "source": [
    "# Example:\n",
    "\n",
    "num = 22\n",
    "if num % 2 == 0:\n",
    "    print(\"Even Number\")\n",
    "else:\n",
    "    print(\"Odd Number\")"
   ]
  },
  {
   "cell_type": "markdown",
   "metadata": {},
   "source": [
    "### Python \"if elif else\" statement\n",
    "\n",
    "Syntax:\n",
    "\n",
    "```\n",
    "if condition:\n",
    "   block_of_code_1\n",
    "elif condition_2:\n",
    "   block_of_code_2\n",
    "elif condition_3:\n",
    "   block_of_code_3\n",
    "..\n",
    "..\n",
    "..\n",
    "else:\n",
    "  block_of_code_n\n",
    "```"
   ]
  },
  {
   "cell_type": "code",
   "execution_count": 61,
   "metadata": {},
   "outputs": [
    {
     "name": "stdout",
     "output_type": "stream",
     "text": [
      "Four digit number\n"
     ]
    }
   ],
   "source": [
    "# Example:\n",
    "\n",
    "num = 1122\n",
    "if 9 < num < 99:\n",
    "    print(\"Two digit number\")\n",
    "elif 99 < num < 999:\n",
    "    print(\"Three digit number\")\n",
    "elif 999 < num < 9999:\n",
    "    print(\"Four digit number\")\n",
    "else:\n",
    "    print(\"number is <= 9 or >= 9999\")"
   ]
  },
  {
   "cell_type": "markdown",
   "metadata": {},
   "source": [
    "### Python Nested \"if\" statement"
   ]
  },
  {
   "cell_type": "code",
   "execution_count": 63,
   "metadata": {},
   "outputs": [
    {
     "name": "stdout",
     "output_type": "stream",
     "text": [
      "Four digit number\n"
     ]
    }
   ],
   "source": [
    "# Example:\n",
    "\n",
    "num = 1122\n",
    "if 9 < num < 99:\n",
    "    print(\"Two digit number\")\n",
    "elif 99 < num < 999:\n",
    "    print(\"Three digit number\")\n",
    "elif 999 < num < 9999:\n",
    "    print(\"Four digit number\")\n",
    "else:\n",
    "    print(\"number is <= 9 or >= 9999\")"
   ]
  },
  {
   "cell_type": "markdown",
   "metadata": {},
   "source": [
    "### Python Loops\n",
    "\n",
    "Used for iterating over a set of statements repeatedly\n",
    "\n",
    "1. for\n",
    "2. while\n",
    "3. do-while\n"
   ]
  },
  {
   "cell_type": "markdown",
   "metadata": {},
   "source": [
    "### Python \"for\" loop"
   ]
  },
  {
   "cell_type": "code",
   "execution_count": 65,
   "metadata": {},
   "outputs": [
    {
     "name": "stdout",
     "output_type": "stream",
     "text": [
      "1\n",
      "4\n",
      "16\n",
      "36\n",
      "121\n",
      "400\n"
     ]
    }
   ],
   "source": [
    "# Program to print squares of all numbers present in a list\n",
    "\n",
    "# List of integer numbers\n",
    "numbers = [1, 2, 4, 6, 11, 20]\n",
    "\n",
    "# variable to store the square of each num temporary\n",
    "sq = 0\n",
    "\n",
    "# iterating over the given list\n",
    "for val in numbers:\n",
    "    # calculating square of each number\n",
    "    sq = val * val\n",
    "    # displaying the squares\n",
    "    print(sq)"
   ]
  },
  {
   "cell_type": "code",
   "execution_count": 66,
   "metadata": {},
   "outputs": [
    {
     "name": "stdout",
     "output_type": "stream",
     "text": [
      "15\n"
     ]
    }
   ],
   "source": [
    "# Using the range function in a for loop:\n",
    "\n",
    "# Program to print the sum of first 5 natural numbers\n",
    "\n",
    "# variable to store the sum\n",
    "sum = 0\n",
    "\n",
    "# iterating over natural numbers using range()\n",
    "for val in range(1, 6):\n",
    "    # calculating sum\n",
    "    sum = sum + val\n",
    "\n",
    "# displaying sum of first 5 natural numbers\n",
    "print(sum)\n"
   ]
  },
  {
   "cell_type": "code",
   "execution_count": 67,
   "metadata": {},
   "outputs": [
    {
     "name": "stdout",
     "output_type": "stream",
     "text": [
      "0\n",
      "1\n",
      "2\n",
      "3\n",
      "4\n",
      "The loop has completed execution\n"
     ]
    }
   ],
   "source": [
    "# For loop with else block\n",
    "\n",
    "# The else block will only execute once the loop block has completed\n",
    "\n",
    "for val in range(5):\n",
    "\tprint(val)\n",
    "else:\n",
    "\tprint(\"The loop has completed execution\")"
   ]
  },
  {
   "cell_type": "code",
   "execution_count": 69,
   "metadata": {},
   "outputs": [
    {
     "name": "stdout",
     "output_type": "stream",
     "text": [
      "0 , 10\n",
      "0 , 11\n",
      "0 , 12\n",
      "0 , 13\n",
      "1 , 10\n",
      "1 , 11\n",
      "1 , 12\n",
      "1 , 13\n",
      "2 , 10\n",
      "2 , 11\n",
      "2 , 12\n",
      "2 , 13\n"
     ]
    }
   ],
   "source": [
    "# Nested for loop: A loop within a loop\n",
    "\n",
    "for num1 in range(3):\n",
    "\tfor num2 in range(10, 14):\n",
    "\t\tprint(num1, \",\", num2)"
   ]
  },
  {
   "cell_type": "markdown",
   "metadata": {},
   "source": [
    "### Python While Loop\n",
    "\n",
    "While loop is used to iterate over a block of code repeatedly until a given condition returns false. In the last tutorial, we have seen for loop in Python, which is also used for the same purpose. The main difference is that we use while loop when we are not certain of the number of times the loop requires execution, on the other hand when we exactly know how many times we need to run the loop, we use for loop.\n",
    "\n",
    "Syntax:\n",
    "\n",
    "```\n",
    "while condition:\n",
    "    #body_of_while\n",
    "```\n",
    "\n",
    "1. First the given condition is checked, if the condition returns false, the loop is terminated and the control jumps to the next statement in the program after the loop.\n",
    "\n",
    "2. If the condition returns true, the set of statements inside loop are executed and then the control jumps to the beginning of the loop for next iteration."
   ]
  },
  {
   "cell_type": "code",
   "execution_count": 70,
   "metadata": {},
   "outputs": [
    {
     "name": "stdout",
     "output_type": "stream",
     "text": [
      "1\n",
      "4\n",
      "7\n"
     ]
    }
   ],
   "source": [
    "# Example:\n",
    "\n",
    "num = 1\n",
    "# loop will repeat itself as long as\n",
    "# num < 10 remains true\n",
    "\n",
    "while num < 10:\n",
    "    print(num)\n",
    "    #incrementing the value of num\n",
    "    num = num + 3"
   ]
  },
  {
   "cell_type": "code",
   "execution_count": null,
   "metadata": {},
   "outputs": [],
   "source": [
    "# Common Error - Infinite while loop\n",
    "\n",
    "while True:\n",
    "   print(\"hello\")"
   ]
  },
  {
   "cell_type": "code",
   "execution_count": null,
   "metadata": {},
   "outputs": [],
   "source": [
    "# Common Error - Infinite while loop\n",
    "\n",
    "num = 1\n",
    "while num<5:\n",
    "   print(num)"
   ]
  },
  {
   "cell_type": "code",
   "execution_count": 71,
   "metadata": {},
   "outputs": [
    {
     "name": "stdout",
     "output_type": "stream",
     "text": [
      "1 , 5\n",
      "2 , 6\n",
      "3 , 7\n"
     ]
    }
   ],
   "source": [
    "# Nested while loop - A while loop within a while loop\n",
    "\n",
    "i = 1\n",
    "j = 5\n",
    "while i < 4:\n",
    "    while j < 8:\n",
    "        print(i, \",\", j)\n",
    "        j = j + 1\n",
    "        i = i + 1"
   ]
  },
  {
   "cell_type": "code",
   "execution_count": 72,
   "metadata": {},
   "outputs": [
    {
     "name": "stdout",
     "output_type": "stream",
     "text": [
      "10\n",
      "9\n",
      "8\n",
      "7\n",
      "loop is finished\n"
     ]
    }
   ],
   "source": [
    "# While loop with else block\n",
    "\n",
    "# We can have a ‘else’ block associated with while loop. The ‘else’ block is optional. It executes only after the loop finished execution.\n",
    "\n",
    "num = 10\n",
    "while num > 6:\n",
    "   print(num)\n",
    "   num = num-1\n",
    "else:\n",
    "   print(\"loop is finished\")"
   ]
  },
  {
   "cell_type": "markdown",
   "metadata": {},
   "source": [
    "### Python \"break\" statement\n",
    "\n",
    "The break statement is used to terminate the loop when a certain condition is met. \n",
    "\n",
    "Syntax:\n",
    "\n",
    "```\n",
    "break\n",
    "```"
   ]
  },
  {
   "cell_type": "code",
   "execution_count": 75,
   "metadata": {},
   "outputs": [
    {
     "name": "stdout",
     "output_type": "stream",
     "text": [
      "11\n",
      "9\n",
      "88\n",
      "The number 88 is found\n",
      "Terminating the loop\n"
     ]
    }
   ],
   "source": [
    "# In this example, we are searching a number ’88’ in the given list of numbers. \n",
    "#The requirement is to display all the numbers till the number ’88’ is found and when it is found, \n",
    "#terminate the loop and do not display the rest of the numbers.\n",
    "\n",
    "# program to display all the elements before number 88\n",
    "for num in [11, 9, 88, 10, 90, 3, 19]:\n",
    "   print(num)\n",
    "   if(num==88):\n",
    "\t   print(\"The number 88 is found\")\n",
    "\t   print(\"Terminating the loop\")\n",
    "\t   break"
   ]
  },
  {
   "cell_type": "markdown",
   "metadata": {},
   "source": [
    "### Python \"continue\" statement\n",
    "\n",
    "The continue statement is used inside a loop to skip the rest of the statements in the body of loop for the current iteration and jump to the beginning of the loop for next iteration. The break and continue statements are used to alter the flow of loop, break terminates the loop when a condition is met and continue skip the current iteration.\n",
    "\n",
    "Syntax:\n",
    "\n",
    "```\n",
    "continue\n",
    "```"
   ]
  },
  {
   "cell_type": "code",
   "execution_count": 77,
   "metadata": {},
   "outputs": [
    {
     "name": "stdout",
     "output_type": "stream",
     "text": [
      "11\n",
      "9\n",
      "89\n"
     ]
    }
   ],
   "source": [
    "# program to display only odd numbers\n",
    "for num in [20, 11, 9, 66, 4, 89, 44]:\n",
    "    # Skipping the iteration when number is even\n",
    "    if num%2 == 0:\n",
    "        continue\n",
    "    # This statement will be skipped for all even numbers\n",
    "    print(num)"
   ]
  },
  {
   "cell_type": "markdown",
   "metadata": {},
   "source": [
    "### Python \"pass\" statement\n",
    "\n",
    "The pass statement acts as a placeholder and usually used when there is no need of code but a statement is still required to make a code syntactically correct. For example we want to declare a function in our code but we want to implement that function in future, which means we are not yet ready to write the body of the function.\n",
    "\n",
    "Syntax:\n",
    "\n",
    "```\n",
    "pass\n",
    "```"
   ]
  },
  {
   "cell_type": "code",
   "execution_count": 79,
   "metadata": {},
   "outputs": [
    {
     "name": "stdout",
     "output_type": "stream",
     "text": [
      "11\n",
      "9\n",
      "89\n"
     ]
    }
   ],
   "source": [
    "for num in [20, 11, 9, 66, 4, 89, 44]:\n",
    "    if num%2 == 0:\n",
    "        pass\n",
    "    else:\n",
    "        print(num)"
   ]
  },
  {
   "cell_type": "markdown",
   "metadata": {},
   "source": [
    "## Python Functions\n",
    "\n",
    "Why use function in Python?\n",
    "\n",
    "1. Code re-usability\n",
    "2. Improves Readability\n",
    "3. Avoid redundancy\n",
    "\n",
    "Syntax:\n",
    "\n",
    "Declaring the function:\n",
    "\n",
    "```\n",
    "def function_name(function_parameters):\n",
    "\tfunction_body # Set of Python statements\n",
    "        return # optional return statement\n",
    "```\n",
    "\n",
    "Calling the function:\n",
    "\n",
    "```\n",
    "function_name(parameters)\n",
    "```\n",
    "\n",
    "Calling the function:\n",
    "\n",
    "```\n",
    "variable = function_name(parameters)\n",
    "```\n",
    "\n",
    "There are two types of functions in Python:\n",
    "\n",
    "1. Built-in functions: These functions are predefined in Python and we need not to declare these functions before calling them. We can freely invoke them as and when needed.\n",
    "\n",
    "2. User defined functions: The functions which we create in our code are user-defined functions. The add() function that we have created in above examples is a user-defined function."
   ]
  },
  {
   "cell_type": "code",
   "execution_count": 82,
   "metadata": {},
   "outputs": [
    {
     "name": "stdout",
     "output_type": "stream",
     "text": [
      "300\n",
      "17\n"
     ]
    }
   ],
   "source": [
    "# Lets define a function for adding numbers:\n",
    "\n",
    "def add(num1, num2):\n",
    "    return num1 + num2\n",
    "\n",
    "\n",
    "sum1 = add(100, 200)\n",
    "sum2 = add(8, 9)\n",
    "print(sum1)\n",
    "print(sum2)"
   ]
  },
  {
   "cell_type": "code",
   "execution_count": 83,
   "metadata": {},
   "outputs": [
    {
     "name": "stdout",
     "output_type": "stream",
     "text": [
      "300\n",
      "9\n",
      "101\n"
     ]
    }
   ],
   "source": [
    "# Using default arguments in a function:\n",
    "\n",
    "# Now that we know how to declare and call a function, lets see how can we use the default arguments. \n",
    "# By using default arguments we can avoid the errors that may arise while calling a function without \n",
    "# passing all the parameters. \n",
    "\n",
    "# default argument for second parameter\n",
    "def add(num1, num2=1):\n",
    "    return num1 + num2\n",
    "\n",
    "\n",
    "sum1 = add(100, 200)\n",
    "sum2 = add(8)  # used default argument for second param\n",
    "sum3 = add(100)  # used default argument for second param\n",
    "print(sum1)\n",
    "print(sum2)\n",
    "print(sum3)"
   ]
  },
  {
   "cell_type": "markdown",
   "metadata": {},
   "source": [
    "## Recursive Functions\n",
    "\n",
    "A function is said to be a recursive if it calls itself. For example, lets say we have a function abc() and in the body of abc() there is a call to the abc()"
   ]
  },
  {
   "cell_type": "code",
   "execution_count": 84,
   "metadata": {},
   "outputs": [
    {
     "name": "stdout",
     "output_type": "stream",
     "text": [
      "Factorial of 5 is:  120\n"
     ]
    }
   ],
   "source": [
    "# Example of recursion in Python to\n",
    "# find the factorial of a given number\n",
    "\n",
    "def factorial(num):\n",
    "    \"\"\"This function calls itself to find\n",
    "    the factorial of a number\"\"\"\n",
    "\n",
    "    if num == 1:\n",
    "        return 1\n",
    "    else:\n",
    "        return (num * factorial(num - 1))\n",
    "\n",
    "\n",
    "num = 5\n",
    "print(\"Factorial of\", num, \"is: \", factorial(num))"
   ]
  }
 ],
 "metadata": {
  "kernelspec": {
   "display_name": "Python 3",
   "language": "python",
   "name": "python3"
  },
  "language_info": {
   "codemirror_mode": {
    "name": "ipython",
    "version": 3
   },
   "file_extension": ".py",
   "mimetype": "text/x-python",
   "name": "python",
   "nbconvert_exporter": "python",
   "pygments_lexer": "ipython3",
   "version": "3.6.9"
  }
 },
 "nbformat": 4,
 "nbformat_minor": 4
}
