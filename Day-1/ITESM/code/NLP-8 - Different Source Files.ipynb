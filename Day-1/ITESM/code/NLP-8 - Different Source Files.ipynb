{
 "cells": [
  {
   "cell_type": "markdown",
   "metadata": {},
   "source": [
    "## Different source files"
   ]
  },
  {
   "cell_type": "code",
   "execution_count": 65,
   "metadata": {},
   "outputs": [],
   "source": [
    "import nltk\n",
    "import urllib.parse\n",
    "import urllib.request\n",
    "#from urllib.request import Request, urlopen\n",
    "from urllib.error import URLError\n",
    "from bs4 import BeautifulSoup"
   ]
  },
  {
   "cell_type": "code",
   "execution_count": 66,
   "metadata": {},
   "outputs": [],
   "source": [
    "# Table mapping response codes to messages; entries have the\n",
    "# form {code: (shortmessage, longmessage)}.\n",
    "responses = {\n",
    "    100: ('Continue', 'Request received, please continue'),\n",
    "    101: ('Switching Protocols',\n",
    "          'Switching to new protocol; obey Upgrade header'),\n",
    "\n",
    "    200: ('OK', 'Request fulfilled, document follows'),\n",
    "    201: ('Created', 'Document created, URL follows'),\n",
    "    202: ('Accepted',\n",
    "          'Request accepted, processing continues off-line'),\n",
    "    203: ('Non-Authoritative Information', 'Request fulfilled from cache'),\n",
    "    204: ('No Content', 'Request fulfilled, nothing follows'),\n",
    "    205: ('Reset Content', 'Clear input form for further input.'),\n",
    "    206: ('Partial Content', 'Partial content follows.'),\n",
    "\n",
    "    300: ('Multiple Choices',\n",
    "          'Object has several resources -- see URI list'),\n",
    "    301: ('Moved Permanently', 'Object moved permanently -- see URI list'),\n",
    "    302: ('Found', 'Object moved temporarily -- see URI list'),\n",
    "    303: ('See Other', 'Object moved -- see Method and URL list'),\n",
    "    304: ('Not Modified',\n",
    "          'Document has not changed since given time'),\n",
    "    305: ('Use Proxy',\n",
    "          'You must use proxy specified in Location to access this '\n",
    "          'resource.'),\n",
    "    307: ('Temporary Redirect',\n",
    "          'Object moved temporarily -- see URI list'),\n",
    "\n",
    "    400: ('Bad Request',\n",
    "          'Bad request syntax or unsupported method'),\n",
    "    401: ('Unauthorized',\n",
    "          'No permission -- see authorization schemes'),\n",
    "    402: ('Payment Required',\n",
    "          'No payment -- see charging schemes'),\n",
    "    403: ('Forbidden',\n",
    "          'Request forbidden -- authorization will not help'),\n",
    "    404: ('Not Found', 'Nothing matches the given URI'),\n",
    "    405: ('Method Not Allowed',\n",
    "          'Specified method is invalid for this server.'),\n",
    "    406: ('Not Acceptable', 'URI not available in preferred format.'),\n",
    "    407: ('Proxy Authentication Required', 'You must authenticate with '\n",
    "          'this proxy before proceeding.'),\n",
    "    408: ('Request Timeout', 'Request timed out; try again later.'),\n",
    "    409: ('Conflict', 'Request conflict.'),\n",
    "    410: ('Gone',\n",
    "          'URI no longer exists and has been permanently removed.'),\n",
    "    411: ('Length Required', 'Client must specify Content-Length.'),\n",
    "    412: ('Precondition Failed', 'Precondition in headers is false.'),\n",
    "    413: ('Request Entity Too Large', 'Entity is too large.'),\n",
    "    414: ('Request-URI Too Long', 'URI is too long.'),\n",
    "    415: ('Unsupported Media Type', 'Entity body in unsupported format.'),\n",
    "    416: ('Requested Range Not Satisfiable',\n",
    "          'Cannot satisfy request range.'),\n",
    "    417: ('Expectation Failed',\n",
    "          'Expect condition could not be satisfied.'),\n",
    "\n",
    "    500: ('Internal Server Error', 'Server got itself in trouble'),\n",
    "    501: ('Not Implemented',\n",
    "          'Server does not support this operation'),\n",
    "    502: ('Bad Gateway', 'Invalid responses from another server/proxy.'),\n",
    "    503: ('Service Unavailable',\n",
    "          'The server cannot process the request due to a high load'),\n",
    "    504: ('Gateway Timeout',\n",
    "          'The gateway server did not receive a timely response'),\n",
    "    505: ('HTTP Version Not Supported', 'Cannot fulfill request.'),\n",
    "    }"
   ]
  },
  {
   "cell_type": "markdown",
   "metadata": {},
   "source": [
    "Some websites [1] dislike being browsed by programs, or send different versions to different browsers [2]. By default urllib identifies itself as Python-urllib/x.y (where x and y are the major and minor version numbers of the Python release, e.g. Python-urllib/2.5), which may confuse the site, or just plain not work. The way a browser identifies itself is through the User-Agent header [3]. When you create a Request object you can pass a dictionary of headers in. The following example makes the same request as above, but identifies itself as a version of Internet Explorer [4]."
   ]
  },
  {
   "cell_type": "code",
   "execution_count": 72,
   "metadata": {},
   "outputs": [],
   "source": [
    "url = \"https://en.wikipedia.org/wiki/Python_(programming_language)\"\n",
    "user_agent = 'Mozilla/5.0 (Windows NT 6.1; Win64; x64)'\n",
    "values = {'name': 'Michael Foord',\n",
    "          'location': 'Northampton',\n",
    "          'language': 'Python' }\n",
    "headers = {'User-Agent': user_agent}\n",
    "data = urllib.parse.urlencode(values)\n",
    "data = data.encode('ascii')"
   ]
  },
  {
   "cell_type": "code",
   "execution_count": 73,
   "metadata": {},
   "outputs": [
    {
     "name": "stdout",
     "output_type": "stream",
     "text": [
      "everything is fine\n"
     ]
    }
   ],
   "source": [
    "req = urllib.request.Request(url, data, headers)\n",
    "\n",
    "try:\n",
    "    #urllib.request.urlopen(req)\n",
    "    with urllib.request.urlopen(req) as response:\n",
    "        html = response.read()\n",
    "except URLError as e:\n",
    "    print('The server couldn\\'t fulfill the request.')\n",
    "    print('Error code: ', responses[e.code])\n",
    "except URLError as e:\n",
    "    print('We failed to reach a server.')\n",
    "    print('Reason: ', e.reason)\n",
    "else:\n",
    "    print(\"everything is fine\")"
   ]
  },
  {
   "cell_type": "code",
   "execution_count": 80,
   "metadata": {},
   "outputs": [],
   "source": [
    "#html"
   ]
  },
  {
   "cell_type": "markdown",
   "metadata": {},
   "source": [
    "## We will use a Python library called BeautifulSoup in order to strip away the HTML code."
   ]
  },
  {
   "cell_type": "code",
   "execution_count": 76,
   "metadata": {},
   "outputs": [
    {
     "name": "stderr",
     "output_type": "stream",
     "text": [
      "/Users/peymannajafirad/anaconda3/lib/python3.6/site-packages/bs4/__init__.py:181: UserWarning: No parser was explicitly specified, so I'm using the best available HTML parser for this system (\"lxml\"). This usually isn't a problem, but if you run this code on another system, or in a different virtual environment, it may use a different parser and behave differently.\n",
      "\n",
      "The code that caused this warning is on line 193 of the file /Users/peymannajafirad/anaconda3/lib/python3.6/runpy.py. To get rid of this warning, change code that looks like this:\n",
      "\n",
      " BeautifulSoup(YOUR_MARKUP})\n",
      "\n",
      "to this:\n",
      "\n",
      " BeautifulSoup(YOUR_MARKUP, \"lxml\")\n",
      "\n",
      "  markup_type=markup_type))\n"
     ]
    }
   ],
   "source": [
    "web_str = BeautifulSoup(html).get_text()"
   ]
  },
  {
   "cell_type": "code",
   "execution_count": 78,
   "metadata": {},
   "outputs": [],
   "source": [
    "web_tokens = nltk.word_tokenize(web_str)"
   ]
  },
  {
   "cell_type": "code",
   "execution_count": 103,
   "metadata": {},
   "outputs": [],
   "source": [
    "## web_tokens[0:25]"
   ]
  },
  {
   "cell_type": "code",
   "execution_count": 104,
   "metadata": {},
   "outputs": [],
   "source": [
    "## tokens[:20]"
   ]
  },
  {
   "cell_type": "code",
   "execution_count": 97,
   "metadata": {},
   "outputs": [],
   "source": [
    "start = web_str.find(\"Python is an interpreted high-level programming language for general-purpose programming\")"
   ]
  },
  {
   "cell_type": "code",
   "execution_count": 98,
   "metadata": {},
   "outputs": [],
   "source": [
    "end = web_str.find(\"Python and CPython are managed by the non-profit Python Software Foundation.\")"
   ]
  },
  {
   "cell_type": "code",
   "execution_count": 99,
   "metadata": {},
   "outputs": [],
   "source": [
    "last_sent = len(\"Python and CPython are managed by the non-profit Python Software Foundation.\")"
   ]
  },
  {
   "cell_type": "code",
   "execution_count": 100,
   "metadata": {},
   "outputs": [],
   "source": [
    "intro = web_str[start:end+last_sent]"
   ]
  },
  {
   "cell_type": "code",
   "execution_count": 101,
   "metadata": {},
   "outputs": [],
   "source": [
    "intro_tokens = nltk.word_tokenize(intro)"
   ]
  },
  {
   "cell_type": "code",
   "execution_count": 102,
   "metadata": {},
   "outputs": [
    {
     "name": "stdout",
     "output_type": "stream",
     "text": [
      "['Python', 'is', 'an', 'interpreted', 'high-level', 'programming', 'language', 'for', 'general-purpose', 'programming', '.', 'Created', 'by', 'Guido', 'van', 'Rossum', 'and', 'first', 'released', 'in', '1991', ',', 'Python', 'has', 'a', 'design', 'philosophy', 'that', 'emphasizes', 'code', 'readability', ',', 'notably', 'using', 'significant', 'whitespace', '.', 'It', 'provides', 'constructs', 'that', 'enable', 'clear', 'programming', 'on', 'both', 'small', 'and', 'large', 'scales', '.', '[', '25', ']', 'In', 'July', '2018', ',', 'the', 'creator', 'Guido', 'Rossum', 'stepped', 'down', 'as', 'the', 'leader', 'in', 'the', 'language', 'community', 'after', '30', 'years', '.', '[', '26', ']', '[', '27', ']', 'Python', 'features', 'a', 'dynamic', 'type', 'system', 'and', 'automatic', 'memory', 'management', '.', 'It', 'supports', 'multiple', 'programming', 'paradigms', ',', 'including', 'object-oriented', ',', 'imperative', ',', 'functional', 'and', 'procedural', ',', 'and', 'has', 'a', 'large', 'and', 'comprehensive', 'standard', 'library', '.', '[', '28', ']', 'Python', 'interpreters', 'are', 'available', 'for', 'many', 'operating', 'systems', '.', 'CPython', ',', 'the', 'reference', 'implementation', 'of', 'Python', ',', 'is', 'open', 'source', 'software', '[', '29', ']', 'and', 'has', 'a', 'community-based', 'development', 'model', ',', 'as', 'do', 'nearly', 'all', 'of', 'Python', \"'s\", 'other', 'implementations', '.', 'Python', 'and', 'CPython', 'are', 'managed', 'by', 'the', 'non-profit', 'Python', 'Software', 'Foundation', '.']\n"
     ]
    }
   ],
   "source": [
    "print (intro_tokens)"
   ]
  },
  {
   "cell_type": "code",
   "execution_count": null,
   "metadata": {},
   "outputs": [],
   "source": []
  }
 ],
 "metadata": {
  "kernelspec": {
   "display_name": "Python 3",
   "language": "python",
   "name": "python3"
  },
  "language_info": {
   "codemirror_mode": {
    "name": "ipython",
    "version": 3
   },
   "file_extension": ".py",
   "mimetype": "text/x-python",
   "name": "python",
   "nbconvert_exporter": "python",
   "pygments_lexer": "ipython3",
   "version": "3.6.5"
  }
 },
 "nbformat": 4,
 "nbformat_minor": 2
}
