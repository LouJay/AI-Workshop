{
 "cells": [
  {
   "cell_type": "markdown",
   "metadata": {},
   "source": [
    "## Different source files"
   ]
  },
  {
   "cell_type": "code",
   "execution_count": 1,
   "metadata": {},
   "outputs": [],
   "source": [
    "import nltk\n",
    "import urllib.parse\n",
    "import urllib.request\n",
    "#from urllib.request import Request, urlopen\n",
    "from urllib.error import URLError\n",
    "from bs4 import BeautifulSoup"
   ]
  },
  {
   "cell_type": "code",
   "execution_count": 2,
   "metadata": {},
   "outputs": [],
   "source": [
    "# Table mapping response codes to messages; entries have the\n",
    "# form {code: (shortmessage, longmessage)}.\n",
    "responses = {\n",
    "    100: ('Continue', 'Request received, please continue'),\n",
    "    101: ('Switching Protocols',\n",
    "          'Switching to new protocol; obey Upgrade header'),\n",
    "\n",
    "    200: ('OK', 'Request fulfilled, document follows'),\n",
    "    201: ('Created', 'Document created, URL follows'),\n",
    "    202: ('Accepted',\n",
    "          'Request accepted, processing continues off-line'),\n",
    "    203: ('Non-Authoritative Information', 'Request fulfilled from cache'),\n",
    "    204: ('No Content', 'Request fulfilled, nothing follows'),\n",
    "    205: ('Reset Content', 'Clear input form for further input.'),\n",
    "    206: ('Partial Content', 'Partial content follows.'),\n",
    "\n",
    "    300: ('Multiple Choices',\n",
    "          'Object has several resources -- see URI list'),\n",
    "    301: ('Moved Permanently', 'Object moved permanently -- see URI list'),\n",
    "    302: ('Found', 'Object moved temporarily -- see URI list'),\n",
    "    303: ('See Other', 'Object moved -- see Method and URL list'),\n",
    "    304: ('Not Modified',\n",
    "          'Document has not changed since given time'),\n",
    "    305: ('Use Proxy',\n",
    "          'You must use proxy specified in Location to access this '\n",
    "          'resource.'),\n",
    "    307: ('Temporary Redirect',\n",
    "          'Object moved temporarily -- see URI list'),\n",
    "\n",
    "    400: ('Bad Request',\n",
    "          'Bad request syntax or unsupported method'),\n",
    "    401: ('Unauthorized',\n",
    "          'No permission -- see authorization schemes'),\n",
    "    402: ('Payment Required',\n",
    "          'No payment -- see charging schemes'),\n",
    "    403: ('Forbidden',\n",
    "          'Request forbidden -- authorization will not help'),\n",
    "    404: ('Not Found', 'Nothing matches the given URI'),\n",
    "    405: ('Method Not Allowed',\n",
    "          'Specified method is invalid for this server.'),\n",
    "    406: ('Not Acceptable', 'URI not available in preferred format.'),\n",
    "    407: ('Proxy Authentication Required', 'You must authenticate with '\n",
    "          'this proxy before proceeding.'),\n",
    "    408: ('Request Timeout', 'Request timed out; try again later.'),\n",
    "    409: ('Conflict', 'Request conflict.'),\n",
    "    410: ('Gone',\n",
    "          'URI no longer exists and has been permanently removed.'),\n",
    "    411: ('Length Required', 'Client must specify Content-Length.'),\n",
    "    412: ('Precondition Failed', 'Precondition in headers is false.'),\n",
    "    413: ('Request Entity Too Large', 'Entity is too large.'),\n",
    "    414: ('Request-URI Too Long', 'URI is too long.'),\n",
    "    415: ('Unsupported Media Type', 'Entity body in unsupported format.'),\n",
    "    416: ('Requested Range Not Satisfiable',\n",
    "          'Cannot satisfy request range.'),\n",
    "    417: ('Expectation Failed',\n",
    "          'Expect condition could not be satisfied.'),\n",
    "\n",
    "    500: ('Internal Server Error', 'Server got itself in trouble'),\n",
    "    501: ('Not Implemented',\n",
    "          'Server does not support this operation'),\n",
    "    502: ('Bad Gateway', 'Invalid responses from another server/proxy.'),\n",
    "    503: ('Service Unavailable',\n",
    "          'The server cannot process the request due to a high load'),\n",
    "    504: ('Gateway Timeout',\n",
    "          'The gateway server did not receive a timely response'),\n",
    "    505: ('HTTP Version Not Supported', 'Cannot fulfill request.'),\n",
    "    }"
   ]
  },
  {
   "cell_type": "code",
   "execution_count": 3,
   "metadata": {},
   "outputs": [],
   "source": [
    "url = \"http://www.gutenberg.org/cache/epub/26275/pg26275.txt\""
   ]
  },
  {
   "cell_type": "code",
   "execution_count": 6,
   "metadata": {},
   "outputs": [],
   "source": [
    "req = urllib.request.Request(url)"
   ]
  },
  {
   "cell_type": "code",
   "execution_count": 11,
   "metadata": {},
   "outputs": [
    {
     "name": "stdout",
     "output_type": "stream",
     "text": [
      "everything is fine\n"
     ]
    },
    {
     "data": {
      "text/plain": [
       "b\"The Project Gutenberg EBook of Homer's Odyssey\""
      ]
     },
     "execution_count": 11,
     "metadata": {},
     "output_type": "execute_result"
    }
   ],
   "source": [
    "try:\n",
    "    #urllib.request.urlopen(req)\n",
    "    with urllib.request.urlopen(req) as response:\n",
    "        odyssey_str = response.read()\n",
    "except URLError as e:\n",
    "    print('The server couldn\\'t fulfill the request.')\n",
    "    print('Error code: ', responses[e.code])\n",
    "except URLError as e:\n",
    "    print('We failed to reach a server.')\n",
    "    print('Reason: ', e.reason)\n",
    "else:\n",
    "    print(\"everything is fine\")\n",
    "odyssey_str[3:49]"
   ]
  },
  {
   "cell_type": "code",
   "execution_count": 12,
   "metadata": {},
   "outputs": [],
   "source": [
    "odyssey_tokens = nltk.word_tokenize(odyssey_str.decode('utf-8'))"
   ]
  },
  {
   "cell_type": "code",
   "execution_count": 13,
   "metadata": {},
   "outputs": [
    {
     "data": {
      "text/plain": [
       "145070"
      ]
     },
     "execution_count": 13,
     "metadata": {},
     "output_type": "execute_result"
    }
   ],
   "source": [
    "len(odyssey_tokens)"
   ]
  },
  {
   "cell_type": "code",
   "execution_count": 16,
   "metadata": {},
   "outputs": [
    {
     "name": "stdout",
     "output_type": "stream",
     "text": [
      "['\\ufeffThe', 'Project', 'Gutenberg', 'EBook', 'of', 'Homer', \"'s\", 'Odyssey']\n"
     ]
    }
   ],
   "source": [
    "odyssey_text = nltk.Text(odyssey_tokens)\n",
    "print(odyssey_text[:8])"
   ]
  }
 ],
 "metadata": {
  "kernelspec": {
   "display_name": "Python 3",
   "language": "python",
   "name": "python3"
  },
  "language_info": {
   "codemirror_mode": {
    "name": "ipython",
    "version": 3
   },
   "file_extension": ".py",
   "mimetype": "text/x-python",
   "name": "python",
   "nbconvert_exporter": "python",
   "pygments_lexer": "ipython3",
   "version": "3.6.5"
  }
 },
 "nbformat": 4,
 "nbformat_minor": 2
}
