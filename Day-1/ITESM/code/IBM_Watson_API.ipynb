{
 "cells": [
  {
   "cell_type": "markdown",
   "metadata": {},
   "source": [
    "## IBM Watson API Service"
   ]
  },
  {
   "cell_type": "code",
   "execution_count": 2,
   "metadata": {},
   "outputs": [],
   "source": [
    "import json\n",
    "from watson_developer_cloud  import NaturalLanguageUnderstandingV1\n",
    "from watson_developer_cloud .natural_language_understanding_v1 import Features, EntitiesOptions, KeywordsOptions, EmotionOptions"
   ]
  },
  {
   "cell_type": "markdown",
   "metadata": {},
   "source": [
    "## Input test files and sentence"
   ]
  },
  {
   "cell_type": "code",
   "execution_count": 3,
   "metadata": {},
   "outputs": [],
   "source": [
    "text_to_analyze ='I am learning so much from this AI course. Python is awesome and super easy to learn' \n",
    "\n",
    "file1 = open(\"data/news1.txt\",\"r\") \n",
    "\n",
    "file2 = open(\"data/news2.txt\", \"r\")"
   ]
  },
  {
   "cell_type": "markdown",
   "metadata": {},
   "source": [
    "## Initialize Natural Language Understanding API Service"
   ]
  },
  {
   "cell_type": "code",
   "execution_count": 4,
   "metadata": {},
   "outputs": [
    {
     "name": "stderr",
     "output_type": "stream",
     "text": [
      "C:\\Users\\PLx1105\\Anaconda3\\envs\\DataCollect\\lib\\site-packages\\ipykernel_launcher.py:4: DeprecationWarning: watson-developer-cloud moved to ibm-watson. To get updates, use the new package.\n",
      "  after removing the cwd from sys.path.\n"
     ]
    }
   ],
   "source": [
    "natural_language_understanding = NaturalLanguageUnderstandingV1(\n",
    "    version='2018-11-16',\n",
    "    iam_apikey='ToYUnPbMgajZUCZ_8qhNiXyUMXHUStskTl6PUaiL42vB',\n",
    "    url='https://gateway.watsonplatform.net/natural-language-understanding/api')"
   ]
  },
  {
   "cell_type": "markdown",
   "metadata": {},
   "source": [
    "## Run the API Service on test sentence"
   ]
  },
  {
   "cell_type": "code",
   "execution_count": 21,
   "metadata": {},
   "outputs": [],
   "source": [
    "response = natural_language_understanding.analyze(\n",
    "    text=text_to_analyze,\n",
    "    features=Features(emotion=EmotionOptions()))"
   ]
  },
  {
   "cell_type": "code",
   "execution_count": 22,
   "metadata": {},
   "outputs": [
    {
     "data": {
      "text/plain": [
       "{'usage': {'text_units': 1, 'text_characters': 84, 'features': 1},\n",
       " 'language': 'en',\n",
       " 'emotion': {'document': {'emotion': {'sadness': 0.023351,\n",
       "    'joy': 0.857228,\n",
       "    'fear': 0.031575,\n",
       "    'disgust': 0.003138,\n",
       "    'anger': 0.018199}}}}"
      ]
     },
     "execution_count": 22,
     "metadata": {},
     "output_type": "execute_result"
    }
   ],
   "source": [
    "response.result"
   ]
  },
  {
   "cell_type": "markdown",
   "metadata": {},
   "source": [
    "## Run the API Service on test file 1"
   ]
  },
  {
   "cell_type": "code",
   "execution_count": 15,
   "metadata": {},
   "outputs": [],
   "source": [
    "response = natural_language_understanding.analyze(\n",
    "    text=file1.read(),\n",
    "    features=Features(entities=EntitiesOptions(), keywords=KeywordsOptions()))"
   ]
  },
  {
   "cell_type": "code",
   "execution_count": 23,
   "metadata": {},
   "outputs": [
    {
     "data": {
      "text/plain": [
       "{'usage': {'text_units': 1, 'text_characters': 84, 'features': 1},\n",
       " 'language': 'en',\n",
       " 'emotion': {'document': {'emotion': {'sadness': 0.023351,\n",
       "    'joy': 0.857228,\n",
       "    'fear': 0.031575,\n",
       "    'disgust': 0.003138,\n",
       "    'anger': 0.018199}}}}"
      ]
     },
     "execution_count": 23,
     "metadata": {},
     "output_type": "execute_result"
    }
   ],
   "source": [
    "response.result"
   ]
  },
  {
   "cell_type": "code",
   "execution_count": 18,
   "metadata": {},
   "outputs": [],
   "source": [
    "response = natural_language_understanding.analyze(\n",
    "    text=file2.read(),\n",
    "    features=Features(entities=EntitiesOptions(), keywords=KeywordsOptions()))"
   ]
  },
  {
   "cell_type": "code",
   "execution_count": 24,
   "metadata": {},
   "outputs": [
    {
     "data": {
      "text/plain": [
       "{'usage': {'text_units': 1, 'text_characters': 84, 'features': 1},\n",
       " 'language': 'en',\n",
       " 'emotion': {'document': {'emotion': {'sadness': 0.023351,\n",
       "    'joy': 0.857228,\n",
       "    'fear': 0.031575,\n",
       "    'disgust': 0.003138,\n",
       "    'anger': 0.018199}}}}"
      ]
     },
     "execution_count": 24,
     "metadata": {},
     "output_type": "execute_result"
    }
   ],
   "source": [
    "response.result"
   ]
  },
  {
   "cell_type": "code",
   "execution_count": null,
   "metadata": {},
   "outputs": [],
   "source": []
  },
  {
   "cell_type": "code",
   "execution_count": null,
   "metadata": {},
   "outputs": [],
   "source": []
  }
 ],
 "metadata": {
  "kernelspec": {
   "display_name": "Python 3",
   "language": "python",
   "name": "python3"
  },
  "language_info": {
   "codemirror_mode": {
    "name": "ipython",
    "version": 3
   },
   "file_extension": ".py",
   "mimetype": "text/x-python",
   "name": "python",
   "nbconvert_exporter": "python",
   "pygments_lexer": "ipython3",
   "version": "3.6.8"
  }
 },
 "nbformat": 4,
 "nbformat_minor": 2
}
