{
 "cells": [
  {
   "cell_type": "code",
   "execution_count": 1,
   "metadata": {},
   "outputs": [],
   "source": [
    "import nltk\n",
    "import csv\n",
    "import numpy as np"
   ]
  },
  {
   "cell_type": "code",
   "execution_count": 2,
   "metadata": {},
   "outputs": [],
   "source": [
    "negative = []\n",
    "with open('words_negative.csv', newline='') as file:\n",
    "    reader = csv.reader(file)\n",
    "    for row in reader:\n",
    "        negative.append(row)"
   ]
  },
  {
   "cell_type": "code",
   "execution_count": 3,
   "metadata": {},
   "outputs": [],
   "source": [
    "positive = []\n",
    "with open(\"words_positive.csv\", newline='') as file:\n",
    "    reader = csv.reader(file)\n",
    "    for row in reader:\n",
    "        positive.append(row)\n"
   ]
  },
  {
   "cell_type": "code",
   "execution_count": 4,
   "metadata": {},
   "outputs": [],
   "source": [
    "def sentiment(text):\n",
    "    temp = []\n",
    "    text_sent = nltk.sent_tokenize(text)\n",
    "    for sentence in text_sent:\n",
    "        n_count = 0\n",
    "        p_count = 0\n",
    "        sent_words = nltk.word_tokenize(sentence)\n",
    "        for word in sent_words:\n",
    "            print (word)\n",
    "            for item in positive:\n",
    "                if(word == item[0]):\n",
    "                    print(\"---> \"+item[0])\n",
    "                    p_count +=1\n",
    "            for item in negative:\n",
    "                if(word == item[0]):\n",
    "                    print(\"---> \"+item[0])\n",
    "                    n_count +=1\n",
    "\n",
    "        if(p_count > 0 and n_count == 0): #any number of only positives (+) [case 1]\n",
    "            #print \"+ : \" + sentence\n",
    "            temp.append(1)\n",
    "        elif(n_count%2 > 0): #odd number of negatives (-) [case2]\n",
    "            #print \"- : \" + sentence\n",
    "            temp.append(-1)\n",
    "        elif(n_count%2 ==0 and n_count > 0): #even number of negatives (+) [case3]\n",
    "            #print \"+ : \" + sentence\n",
    "            temp.append(1)\n",
    "        else:\n",
    "            #print \"? : \" + sentence\n",
    "            temp.append(0)\n",
    "    return temp"
   ]
  },
  {
   "cell_type": "code",
   "execution_count": 5,
   "metadata": {},
   "outputs": [
    {
     "name": "stdout",
     "output_type": "stream",
     "text": [
      "It\n",
      "was\n",
      "terribly\n",
      "bad\n",
      "---> bad\n",
      ".\n"
     ]
    },
    {
     "data": {
      "text/plain": [
       "[-1]"
      ]
     },
     "execution_count": 5,
     "metadata": {},
     "output_type": "execute_result"
    }
   ],
   "source": [
    "sentiment(\"It was terribly bad.\")"
   ]
  },
  {
   "cell_type": "code",
   "execution_count": 6,
   "metadata": {},
   "outputs": [
    {
     "name": "stdout",
     "output_type": "stream",
     "text": [
      "Actualluty\n",
      ",\n",
      "it\n",
      "was\n",
      "not\n",
      "---> not\n",
      "bad\n",
      "---> bad\n",
      "at\n",
      "all\n",
      ".\n"
     ]
    },
    {
     "data": {
      "text/plain": [
       "[1]"
      ]
     },
     "execution_count": 6,
     "metadata": {},
     "output_type": "execute_result"
    }
   ],
   "source": [
    "sentiment(\"Actualluty, it was not bad at all.\")"
   ]
  },
  {
   "cell_type": "code",
   "execution_count": 7,
   "metadata": {},
   "outputs": [
    {
     "name": "stdout",
     "output_type": "stream",
     "text": [
      "This\n",
      "is\n",
      "a\n",
      "sentance\n",
      "about\n",
      "nothing\n",
      ".\n"
     ]
    },
    {
     "data": {
      "text/plain": [
       "[0]"
      ]
     },
     "execution_count": 7,
     "metadata": {},
     "output_type": "execute_result"
    }
   ],
   "source": [
    "sentiment(\"This is a sentance about nothing.\")"
   ]
  },
  {
   "cell_type": "code",
   "execution_count": 8,
   "metadata": {},
   "outputs": [
    {
     "name": "stdout",
     "output_type": "stream",
     "text": [
      "I\n",
      "saw\n",
      "this\n",
      "movie\n",
      "the\n",
      "other\n",
      "night\n",
      ".\n",
      "I\n",
      "can\n",
      "say\n",
      "I\n",
      "was\n",
      "not\n",
      "---> not\n",
      "disappointed\n",
      "---> disappointed\n",
      "!\n",
      "The\n",
      "actiing\n",
      "and\n",
      "story\n",
      "line\n",
      "was\n",
      "amazing\n",
      "---> amazing\n",
      "and\n",
      "kept\n",
      "me\n",
      "on\n",
      "the\n",
      "edge\n",
      "of\n",
      "my\n",
      "seat\n",
      "the\n",
      "entire\n",
      "time\n",
      ".\n",
      "While\n",
      "I\n",
      "did\n",
      "not\n",
      "---> not\n",
      "care\n",
      "for\n",
      "the\n",
      "music\n",
      ",\n",
      "it\n",
      "did\n",
      "not\n",
      "---> not\n",
      "take\n",
      "away\n",
      "from\n",
      "the\n",
      "overall\n",
      "experience\n",
      ".\n",
      "I\n",
      "would\n",
      "highly\n",
      "recommend\n",
      "---> recommend\n",
      "this\n",
      "movie\n",
      "to\n",
      "anyone\n",
      "who\n",
      "enjoys\n",
      "thirllers\n",
      ".\n"
     ]
    }
   ],
   "source": [
    "mylist = sentiment(\"I saw this movie the other night. I can say I was not disappointed! The actiing and story line was amazing and kept me on the edge of my seat the entire time. While I did not care for the music, it did not take away from the overall experience. I would highly recommend this movie to anyone who enjoys thirllers.\")"
   ]
  },
  {
   "cell_type": "code",
   "execution_count": null,
   "metadata": {},
   "outputs": [],
   "source": [
    "mylist"
   ]
  },
  {
   "cell_type": "code",
   "execution_count": null,
   "metadata": {},
   "outputs": [],
   "source": [
    "comments = []\n",
    "with open(\"reviews.csv\", newline='') as file:\n",
    "    reader = csv.reader(file)\n",
    "    for row in reader:\n",
    "        comments.append(row)"
   ]
  },
  {
   "cell_type": "code",
   "execution_count": null,
   "metadata": {},
   "outputs": [],
   "source": [
    "comments[1]"
   ]
  },
  {
   "cell_type": "code",
   "execution_count": null,
   "metadata": {},
   "outputs": [],
   "source": [
    "rate = sentiment(str(comments[0]))"
   ]
  },
  {
   "cell_type": "code",
   "execution_count": null,
   "metadata": {},
   "outputs": [],
   "source": [
    "np.average(rate)"
   ]
  },
  {
   "cell_type": "code",
   "execution_count": null,
   "metadata": {},
   "outputs": [],
   "source": [
    "for review in comments:\n",
    "    print(\"\\n\")\n",
    "    print(np.average(sentiment(str(review))))\n",
    "    print(review)"
   ]
  },
  {
   "cell_type": "code",
   "execution_count": null,
   "metadata": {},
   "outputs": [],
   "source": []
  }
 ],
 "metadata": {
  "kernelspec": {
   "display_name": "Python 3",
   "language": "python",
   "name": "python3"
  },
  "language_info": {
   "codemirror_mode": {
    "name": "ipython",
    "version": 3
   },
   "file_extension": ".py",
   "mimetype": "text/x-python",
   "name": "python",
   "nbconvert_exporter": "python",
   "pygments_lexer": "ipython3",
   "version": "3.6.5"
  }
 },
 "nbformat": 4,
 "nbformat_minor": 2
}
