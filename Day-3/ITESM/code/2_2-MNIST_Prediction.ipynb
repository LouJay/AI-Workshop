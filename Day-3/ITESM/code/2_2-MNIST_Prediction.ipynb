{
 "cells": [
  {
   "cell_type": "code",
   "execution_count": 1,
   "metadata": {},
   "outputs": [
    {
     "name": "stdout",
     "output_type": "stream",
     "text": [
      "1.10.0\n"
     ]
    }
   ],
   "source": [
    "import tensorflow as tf\n",
    "import numpy as np\n",
    "from tensorflow import keras\n",
    "import matplotlib.pyplot as plt\n",
    "from tensorflow.python.keras.models import load_model\n",
    "print(tf.__version__)"
   ]
  },
  {
   "cell_type": "code",
   "execution_count": 12,
   "metadata": {},
   "outputs": [],
   "source": [
    "def plot_images(images, cls_true, cls_pred=None):\n",
    "    \n",
    "    fig, axes = plt.subplots(1, 5)\n",
    "    fig.subplots_adjust(hspace=1, wspace=0.2)\n",
    "\n",
    "    for i, ax in enumerate(axes.flat):\n",
    "        # Plot image.\n",
    "        ax.imshow(images[i].reshape(28,28), cmap='binary')\n",
    "\n",
    "        # Show true and predicted classes.\n",
    "        if cls_pred is None:\n",
    "            xlabel = \"Actual: {0}\".format(cls_true[i])\n",
    "        else:\n",
    "            xlabel = \"Actual: {0},\\n Prediction: {1}\".format(cls_true[i], cls_pred[i])\n",
    "\n",
    "        ax.set_xlabel(xlabel)\n",
    "        \n",
    "        # Remove ticks from the plot.\n",
    "        ax.set_xticks([])\n",
    "        ax.set_yticks([])\n",
    "        \n",
    "    plt.show()"
   ]
  },
  {
   "cell_type": "code",
   "execution_count": 2,
   "metadata": {},
   "outputs": [],
   "source": [
    "model = load_model('model.keras')"
   ]
  },
  {
   "cell_type": "code",
   "execution_count": 3,
   "metadata": {},
   "outputs": [],
   "source": [
    "(_, _), (x_test, y_test) = tf.keras.datasets.mnist.load_data()"
   ]
  },
  {
   "cell_type": "code",
   "execution_count": 4,
   "metadata": {},
   "outputs": [],
   "source": [
    "#print(x_test[0])"
   ]
  },
  {
   "cell_type": "code",
   "execution_count": 5,
   "metadata": {},
   "outputs": [],
   "source": [
    "#x_test = tf.keras.utils.normalize(nx_test, axis=1)\n",
    "y_test = keras.utils.to_categorical(y_test, 10)\n",
    "#x_test = x_test.reshape(x_test.shape[0], 28*28)"
   ]
  },
  {
   "cell_type": "code",
   "execution_count": 9,
   "metadata": {},
   "outputs": [
    {
     "name": "stdout",
     "output_type": "stream",
     "text": [
      "(10000, 28, 28)\n",
      "(10000, 28, 28, 1)\n"
     ]
    }
   ],
   "source": [
    "print (x_test.shape)\n",
    "x_test = x_test[..., np.newaxis]\n",
    "print (x_test.shape)"
   ]
  },
  {
   "cell_type": "code",
   "execution_count": 10,
   "metadata": {},
   "outputs": [
    {
     "name": "stdout",
     "output_type": "stream",
     "text": [
      "10000/10000 [==============================] - 5s 469us/step\n",
      "loss 0.1546682961879049\n",
      "acc 0.9902\n"
     ]
    }
   ],
   "source": [
    "result = model.evaluate(x_test, y_test)\n",
    "for name, value in zip(model.metrics_names, result):\n",
    "    print (name, value)"
   ]
  },
  {
   "cell_type": "code",
   "execution_count": 13,
   "metadata": {},
   "outputs": [
    {
     "data": {
      "image/png": "[encoded data removed]",
      "text/plain": [
       "<Figure size 432x288 with 5 Axes>"
      ]
     },
     "metadata": {},
     "output_type": "display_data"
    }
   ],
   "source": [
    "R_img = range (105,110)\n",
    "plot_images(x_test[R_img], np.argmax(y_test[R_img],axis=1), np.argmax(model.predict(x_test[R_img]), axis=1))"
   ]
  },
  {
   "cell_type": "code",
   "execution_count": 17,
   "metadata": {},
   "outputs": [
    {
     "name": "stdout",
     "output_type": "stream",
     "text": [
      "98\n"
     ]
    },
    {
     "data": {
      "text/plain": [
       "[321,\n",
       " 445,\n",
       " 449,\n",
       " 582,\n",
       " 583,\n",
       " 646,\n",
       " 659,\n",
       " 924,\n",
       " 938,\n",
       " 947,\n",
       " 1014,\n",
       " 1039,\n",
       " 1114,\n",
       " 1182,\n",
       " 1226,\n",
       " 1232,\n",
       " 1260,\n",
       " 1319,\n",
       " 1393,\n",
       " 1414,\n",
       " 1459,\n",
       " 1527,\n",
       " 1530,\n",
       " 1641,\n",
       " 1678,\n",
       " 1681,\n",
       " 1709,\n",
       " 1782,\n",
       " 1901,\n",
       " 2025,\n",
       " 2070,\n",
       " 2118,\n",
       " 2130,\n",
       " 2135,\n",
       " 2280,\n",
       " 2387,\n",
       " 2406,\n",
       " 2414,\n",
       " 2462,\n",
       " 2488,\n",
       " 2597,\n",
       " 2654,\n",
       " 2720,\n",
       " 2760,\n",
       " 2896,\n",
       " 2921,\n",
       " 2939,\n",
       " 2953,\n",
       " 2995,\n",
       " 3060,\n",
       " 3422,\n",
       " 3474,\n",
       " 3503,\n",
       " 3520,\n",
       " 3558,\n",
       " 3662,\n",
       " 3727,\n",
       " 3749,\n",
       " 3762,\n",
       " 3808,\n",
       " 3985,\n",
       " 4176,\n",
       " 4205,\n",
       " 4284,\n",
       " 4369,\n",
       " 4497,\n",
       " 4639,\n",
       " 4699,\n",
       " 4740,\n",
       " 4761,\n",
       " 4807,\n",
       " 4823,\n",
       " 4956,\n",
       " 5457,\n",
       " 5937,\n",
       " 5955,\n",
       " 5997,\n",
       " 6011,\n",
       " 6091,\n",
       " 6555,\n",
       " 6597,\n",
       " 6614,\n",
       " 6625,\n",
       " 6755,\n",
       " 7216,\n",
       " 7492,\n",
       " 7849,\n",
       " 8059,\n",
       " 8094,\n",
       " 9587,\n",
       " 9638,\n",
       " 9642,\n",
       " 9664,\n",
       " 9679,\n",
       " 9692,\n",
       " 9729,\n",
       " 9770,\n",
       " 9839]"
      ]
     },
     "execution_count": 17,
     "metadata": {},
     "output_type": "execute_result"
    }
   ],
   "source": [
    "y_prediction = np.argmax(model.predict(x_test), axis=1)\n",
    "actual= np.argmax(y_test, axis=1)\n",
    "len(actual)\n",
    "misclassification=[i for i in range (10000) if actual[i]!=y_prediction[i]]\n",
    "print(len(misclassification))\n",
    "misclassification"
   ]
  },
  {
   "cell_type": "code",
   "execution_count": 26,
   "metadata": {},
   "outputs": [
    {
     "data": {
      "image/png": "[encoded data removed]",
      "text/plain": [
       "<Figure size 432x288 with 1 Axes>"
      ]
     },
     "metadata": {},
     "output_type": "display_data"
    },
    {
     "name": "stdout",
     "output_type": "stream",
     "text": [
      "actual:  3 predication:  5\n"
     ]
    }
   ],
   "source": [
    "plt.imshow(x_test[449].reshape(28,28), cmap='binary')\n",
    "plt.show()\n",
    "print(\"actual: \",actual[449],\"predication: \", y_prediction[449])"
   ]
  },
  {
   "cell_type": "code",
   "execution_count": null,
   "metadata": {},
   "outputs": [],
   "source": []
  }
 ],
 "metadata": {
  "kernelspec": {
   "display_name": "Python 3",
   "language": "python",
   "name": "python3"
  },
  "language_info": {
   "codemirror_mode": {
    "name": "ipython",
    "version": 3
   },
   "file_extension": ".py",
   "mimetype": "text/x-python",
   "name": "python",
   "nbconvert_exporter": "python",
   "pygments_lexer": "ipython3",
   "version": "3.5.2"
  }
 },
 "nbformat": 4,
 "nbformat_minor": 2
}
