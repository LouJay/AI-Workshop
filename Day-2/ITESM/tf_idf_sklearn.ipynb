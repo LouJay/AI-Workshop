{
 "cells": [
  {
   "cell_type": "code",
   "execution_count": 17,
   "metadata": {},
   "outputs": [],
   "source": [
    "from pandas import DataFrame\n",
    "import numpy as np\n",
    "import matplotlib.pyplot as plt\n",
    "%matplotlib inline\n",
    "import seaborn as sns\n",
    "from scipy import spatial\n",
    "\n",
    "from sklearn.feature_extraction.text import CountVectorizer\n",
    "from sklearn.feature_extraction.text import TfidfVectorizer\n",
    "from sklearn.metrics.pairwise import pairwise_distances"
   ]
  },
  {
   "cell_type": "code",
   "execution_count": 47,
   "metadata": {},
   "outputs": [],
   "source": [
    "doc0 = \"\"\"World War II (often abbreviated to WWII or WW2), also known as the Second World War, was a global war that lasted from 1939 to 1945. The vast majority of the world's countries—including all the great powers—eventually formed two opposing military alliances: the Allies and the Axis. A state of total war emerged, directly involving more than 100 million people from over 30 countries. The major participants threw their entire economic, industrial, and scientific capabilities behind the war effort, blurring the distinction between civilian and military resources. World War II was the deadliest conflict in human history, marked by 50 to 85 million fatalities, most of whom were civilians in the Soviet Union and China. It included massacres, the genocide of the Holocaust, strategic bombing, premeditated death from starvation and disease, and the only use of nuclear weapons in war\"\"\""
   ]
  },
  {
   "cell_type": "code",
   "execution_count": 48,
   "metadata": {},
   "outputs": [],
   "source": [
    "doc1 = \"\"\"A world war is a large-scale war involving many of the countries of the world or many of the most powerful and populous ones. World wars span multiple countries on multiple continents, with battles fought in many theaters. While a variety of global conflicts have been subjectively deemed \"world wars\", such as the Cold War and the War on Terror, the term is widely and generally accepted only as it is retrospectively applied to two major international conflicts that occurred during the 20th century: World War I (1914–1918) and World War II (1939–1945).\"\"\""
   ]
  },
  {
   "cell_type": "code",
   "execution_count": 49,
   "metadata": {},
   "outputs": [],
   "source": [
    "doc2 = \"\"\"Baseball is a bat-and-ball game played between two opposing teams who take turns batting and fielding. The game proceeds when a player on the fielding team, called the pitcher, throws a ball which a player on the batting team tries to hit with a bat. The objectives of the offensive team (batting team) are to hit the ball into the field of play, and to run the bases—having its runners advance counter-clockwise around four bases to score what are called \"runs\". The objective of the defensive team (fielding team) is to prevent batters from becoming runners, and to prevent runners' advance around the bases.[2] A run is scored when a runner legally advances around the bases in order and touches home plate (the place where the player started as a batter). The team that scores the most runs by the end of the game is the winner.\"\"\""
   ]
  },
  {
   "cell_type": "code",
   "execution_count": 50,
   "metadata": {},
   "outputs": [],
   "source": [
    "doc3 = \"\"\"Basketball is a team sport in which two teams of five players, opposing one another on a rectangular court, compete with the primary objective of shooting a basketball (approximately 9.4 inches (24 cm) in diameter) through the defender's hoop (a basket 18 inches (46 cm) in diameter mounted 10 feet (3.048 m) high to a backboard at each end of the court) while preventing the opposing team from shooting through their own hoop. A field goal is worth two points, unless made from behind the three-point line, when it is worth three. After a foul, timed play stops and the player fouled or designated to shoot a technical foul is given one or more one-point free throws. The team with the most points at the end of the game wins, but if regulation play expires with the score tied, an additional period of play (overtime) is mandated.\"\"\""
   ]
  },
  {
   "cell_type": "code",
   "execution_count": 51,
   "metadata": {},
   "outputs": [],
   "source": [
    "doc4 = \"\"\"Football is a family of team sports that involve, to varying degrees, kicking a ball with a foot to score a goal. Unqualified, the word football is understood to refer to whichever form of football is the most popular in the regional context in which the word appears. Sports commonly called football in certain places include association football (known as soccer in some countries); gridiron football (specifically American football or Canadian football); Australian rules football; rugby football (either rugby league or rugby union); and Gaelic football.[1][2] These different variations of football are known as football codes.\"\"\""
   ]
  },
  {
   "cell_type": "code",
   "execution_count": 52,
   "metadata": {},
   "outputs": [],
   "source": [
    "docs = [doc0,\n",
    "        doc1,\n",
    "        doc2,\n",
    "        doc3,\n",
    "        doc4]"
   ]
  },
  {
   "cell_type": "markdown",
   "metadata": {},
   "source": [
    "## Count Vectorizer\n",
    "<li> eliminate stop words : stop_words=\"english\"\n",
    "<li> ngram (1,1) \n",
    "<li> max_features = 10"
   ]
  },
  {
   "cell_type": "code",
   "execution_count": 53,
   "metadata": {},
   "outputs": [],
   "source": [
    "vect = CountVectorizer(stop_words=\"english\", analyzer='word', ngram_range=(1, 1), max_df=1.0, min_df=1, max_features=20)\n",
    "X = vect.fit_transform(docs)"
   ]
  },
  {
   "cell_type": "markdown",
   "metadata": {},
   "source": [
    "## Create a DataFrame based on the documents"
   ]
  },
  {
   "cell_type": "code",
   "execution_count": 54,
   "metadata": {},
   "outputs": [
    {
     "name": "stdout",
     "output_type": "stream",
     "text": [
      "   ball  bases  batting  called  countries  end  fielding  football  game  ii  \\\n",
      "0     0      0        0       0          2    0         0         0     0   2   \n",
      "1     0      0        0       0          2    0         0         0     0   1   \n",
      "2     3      4        3       2          0    1         3         0     3   0   \n",
      "3     0      0        0       0          0    2         0         0     1   0   \n",
      "4     1      0        0       1          1    0         0        13     0   0   \n",
      "\n",
      "   known  opposing  play  player  rugby  runners  score  team  war  world  \n",
      "0      1         1     0       0      0        0      0     0    7      4  \n",
      "1      0         0     0       0      0        0      0     0    6      6  \n",
      "2      0         1     1       3      0        3      1     7    0      0  \n",
      "3      0         2     3       1      0        0      1     3    0      0  \n",
      "4      2         0     0       0      3        0      1     1    0      0  \n"
     ]
    }
   ],
   "source": [
    "count_df = DataFrame(X.A, columns=vect.get_feature_names())\n",
    "print (count_df)"
   ]
  },
  {
   "cell_type": "markdown",
   "metadata": {},
   "source": [
    "## Convert Panda DataFrame to Matrix"
   ]
  },
  {
   "cell_type": "code",
   "execution_count": 55,
   "metadata": {},
   "outputs": [
    {
     "name": "stdout",
     "output_type": "stream",
     "text": [
      "[[ 0  0  0  0  2  0  0  0  0  2  1  1  0  0  0  0  0  0  7  4]\n",
      " [ 0  0  0  0  2  0  0  0  0  1  0  0  0  0  0  0  0  0  6  6]\n",
      " [ 3  4  3  2  0  1  3  0  3  0  0  1  1  3  0  3  1  7  0  0]\n",
      " [ 0  0  0  0  0  2  0  0  1  0  0  2  3  1  0  0  1  3  0  0]\n",
      " [ 1  0  0  1  1  0  0 13  0  0  2  0  0  0  3  0  1  1  0  0]]\n"
     ]
    }
   ],
   "source": [
    "count_ary = count_df.values\n",
    "print (count_ary)"
   ]
  },
  {
   "cell_type": "markdown",
   "metadata": {},
   "source": [
    "## Cosine Similarity for Vector Space Models\n",
    "<li> result = 1 - spatial.distance.cosine(count_ary[0], count_ary[0])"
   ]
  },
  {
   "cell_type": "code",
   "execution_count": 56,
   "metadata": {},
   "outputs": [
    {
     "name": "stdout",
     "output_type": "stream",
     "text": [
      "[[1.         0.94745044 0.01024631 0.0428845  0.03377603]\n",
      " [0.94745044 1.         0.         0.         0.01666725]\n",
      " [0.01024631 0.         1.         0.57672288 0.08435691]\n",
      " [0.0428845  0.         0.57672288 1.         0.05431755]\n",
      " [0.03377603 0.01666725 0.08435691 0.05431755 1.        ]]\n"
     ]
    }
   ],
   "source": [
    "correlation= 1-pairwise_distances(count_ary, metric='cosine')\n",
    "print (correlation)"
   ]
  },
  {
   "cell_type": "code",
   "execution_count": 57,
   "metadata": {},
   "outputs": [
    {
     "data": {
      "image/png": "[encoded data removed]",
      "text/plain": [
       "<Figure size 432x288 with 2 Axes>"
      ]
     },
     "metadata": {},
     "output_type": "display_data"
    }
   ],
   "source": [
    "fig = plt.figure()\n",
    "ax = fig.add_subplot(111)\n",
    "cax = ax.matshow(correlation, vmin=0, vmax=1)\n",
    "fig.colorbar(cax)\n",
    "plt.show()"
   ]
  },
  {
   "cell_type": "markdown",
   "metadata": {},
   "source": [
    "## TFIDF Vectorizer\n",
    "<li> eliminate stop words : stop_words=\"english\"\n",
    "<li> ngram (1,1) \n",
    "<li> max_features = 10"
   ]
  },
  {
   "cell_type": "code",
   "execution_count": 58,
   "metadata": {},
   "outputs": [],
   "source": [
    "f = TfidfVectorizer(smooth_idf=False, sublinear_tf=False, norm=None, stop_words=\"english\", analyzer='word', ngram_range=(1, 1), max_df=1.0, min_df=1, max_features=20)\n",
    "Xi = f.fit_transform(docs)"
   ]
  },
  {
   "cell_type": "markdown",
   "metadata": {},
   "source": [
    "## Create a DataFrame based on the documents' TFIDF Vectorizer"
   ]
  },
  {
   "cell_type": "code",
   "execution_count": 59,
   "metadata": {},
   "outputs": [
    {
     "name": "stdout",
     "output_type": "stream",
     "text": [
      "       ball      bases   batting    called  countries       end  fielding  \\\n",
      "0  0.000000   0.000000  0.000000  0.000000   3.021651  0.000000  0.000000   \n",
      "1  0.000000   0.000000  0.000000  0.000000   3.021651  0.000000  0.000000   \n",
      "2  5.748872  10.437752  7.828314  3.832581   0.000000  1.916291  7.828314   \n",
      "3  0.000000   0.000000  0.000000  0.000000   0.000000  3.832581  0.000000   \n",
      "4  1.916291   0.000000  0.000000  1.916291   1.510826  0.000000  0.000000   \n",
      "\n",
      "    football      game        ii     known  opposing      play    player  \\\n",
      "0   0.000000  0.000000  3.832581  1.916291  1.510826  0.000000  0.000000   \n",
      "1   0.000000  0.000000  1.916291  0.000000  0.000000  0.000000  0.000000   \n",
      "2   0.000000  5.748872  0.000000  0.000000  1.510826  1.916291  5.748872   \n",
      "3   0.000000  1.916291  0.000000  0.000000  3.021651  5.748872  1.916291   \n",
      "4  33.922693  0.000000  0.000000  3.832581  0.000000  0.000000  0.000000   \n",
      "\n",
      "      rugby   runners     score       team        war      world  \n",
      "0  0.000000  0.000000  0.000000   0.000000  13.414035   7.665163  \n",
      "1  0.000000  0.000000  0.000000   0.000000  11.497744  11.497744  \n",
      "2  0.000000  7.828314  1.510826  10.575779   0.000000   0.000000  \n",
      "3  0.000000  0.000000  1.510826   4.532477   0.000000   0.000000  \n",
      "4  7.828314  0.000000  1.510826   1.510826   0.000000   0.000000  \n"
     ]
    }
   ],
   "source": [
    "tfid_df = DataFrame(Xi.A, columns=f.get_feature_names())\n",
    "print (tfid_df)"
   ]
  },
  {
   "cell_type": "markdown",
   "metadata": {},
   "source": [
    "## ## Convert Panda DataFrame to Matrix"
   ]
  },
  {
   "cell_type": "code",
   "execution_count": 60,
   "metadata": {},
   "outputs": [
    {
     "name": "stdout",
     "output_type": "stream",
     "text": [
      "[[ 0.          0.          0.          0.          3.02165125  0.\n",
      "   0.          0.          0.          3.83258146  1.91629073  1.51082562\n",
      "   0.          0.          0.          0.          0.          0.\n",
      "  13.41403512  7.66516293]\n",
      " [ 0.          0.          0.          0.          3.02165125  0.\n",
      "   0.          0.          0.          1.91629073  0.          0.\n",
      "   0.          0.          0.          0.          0.          0.\n",
      "  11.49774439 11.49774439]\n",
      " [ 5.7488722  10.43775165  7.82831374  3.83258146  0.          1.91629073\n",
      "   7.82831374  0.          5.7488722   0.          0.          1.51082562\n",
      "   1.91629073  5.7488722   0.          7.82831374  1.51082562 10.57577937\n",
      "   0.          0.        ]\n",
      " [ 0.          0.          0.          0.          0.          3.83258146\n",
      "   0.          0.          1.91629073  0.          0.          3.02165125\n",
      "   5.7488722   1.91629073  0.          0.          1.51082562  4.53247687\n",
      "   0.          0.        ]\n",
      " [ 1.91629073  0.          0.          1.91629073  1.51082562  0.\n",
      "   0.         33.92269286  0.          0.          3.83258146  0.\n",
      "   0.          0.          7.82831374  0.          1.51082562  1.51082562\n",
      "   0.          0.        ]]\n"
     ]
    }
   ],
   "source": [
    "tfid_ary = tfid_df.values\n",
    "print (tfid_ary)"
   ]
  },
  {
   "cell_type": "markdown",
   "metadata": {},
   "source": [
    "## Cosine Similarity for Vector Space Models"
   ]
  },
  {
   "cell_type": "code",
   "execution_count": 61,
   "metadata": {},
   "outputs": [
    {
     "name": "stdout",
     "output_type": "stream",
     "text": [
      "[[1.         0.94883028 0.00604906 0.02986471 0.02063385]\n",
      " [0.94883028 1.         0.         0.         0.00778381]\n",
      " [0.00604906 0.         1.         0.44297024 0.04514087]\n",
      " [0.02986471 0.         0.44297024 1.         0.02778187]\n",
      " [0.02063385 0.00778381 0.04514087 0.02778187 1.        ]]\n"
     ]
    }
   ],
   "source": [
    "correlation= 1-pairwise_distances(tfid_ary, metric='cosine')\n",
    "print (correlation)"
   ]
  },
  {
   "cell_type": "code",
   "execution_count": 62,
   "metadata": {},
   "outputs": [
    {
     "data": {
      "image/png": "[encoded data removed]",
      "text/plain": [
       "<Figure size 432x288 with 2 Axes>"
      ]
     },
     "metadata": {},
     "output_type": "display_data"
    }
   ],
   "source": [
    "fig = plt.figure()\n",
    "ax = fig.add_subplot(111)\n",
    "cax = ax.matshow(correlation, vmin=0, vmax=1)\n",
    "fig.colorbar(cax)\n",
    "plt.show()"
   ]
  },
  {
   "cell_type": "markdown",
   "metadata": {},
   "source": [
    "# Question \n",
    "#### Step 1) Read the following articles using Beautifulsoup Python library provided to you\n",
    "#### Step 2) Using the above code build the Cosine Similarity Matrix using CountVectorizer and TFIDFVectorizer \n",
    "#### Step 3) Plot Similarity Matrix using CountVectorizer and TFIDFVectorizer \n",
    "\n",
    "##### URLs:\n",
    "<li> https://en.wikipedia.org/wiki/World_War_II\n",
    "<li> https://en.wikipedia.org/wiki/World_War_I \n",
    "<li> https://www.bbc.com/sport/football/47818390",
    "<li> http://www.bbc.com/travel/story/20190329-a-world-isolated-from-life-by-1400km",
    "<li> https://en.wikipedia.org/wiki/Association_football"
   ]
  }
 ],
 "metadata": {
  "kernelspec": {
   "display_name": "Python 3",
   "language": "python",
   "name": "python3"
  },
  "language_info": {
   "codemirror_mode": {
    "name": "ipython",
    "version": 3
   },
   "file_extension": ".py",
   "mimetype": "text/x-python",
   "name": "python",
   "nbconvert_exporter": "python",
   "pygments_lexer": "ipython3",
   "version": "3.5.2"
  }
 },
 "nbformat": 4,
 "nbformat_minor": 2
}
