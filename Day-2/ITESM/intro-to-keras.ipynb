{
 "cells": [
  {
   "cell_type": "code",
   "execution_count": 8,
   "metadata": {},
   "outputs": [
    {
     "name": "stderr",
     "output_type": "stream",
     "text": [
      "Using TensorFlow backend.\n"
     ]
    }
   ],
   "source": [
    "from keras.models import Sequential\n",
    "from keras.layers import Dense, Activation\n",
    "from keras.datasets import boston_housing"
   ]
  },
  {
   "cell_type": "code",
   "execution_count": null,
   "metadata": {},
   "outputs": [],
   "source": []
  },
  {
   "cell_type": "code",
   "execution_count": 9,
   "metadata": {
    "collapsed": true
   },
   "outputs": [
    {
     "name": "stdout",
     "output_type": "stream",
     "text": [
      "Downloading data from https://s3.amazonaws.com/keras-datasets/boston_housing.npz\n",
      "57344/57026 [==============================] - 0s 3us/step\n"
     ]
    }
   ],
   "source": [
    "(X_train, Y_train), (X_test, Y_test) = boston_housing.load_data()"
   ]
  },
  {
   "cell_type": "code",
   "execution_count": 10,
   "metadata": {
    "scrolled": true
   },
   "outputs": [
    {
     "name": "stdout",
     "output_type": "stream",
     "text": [
      "WARNING:tensorflow:From /anaconda3/lib/python3.7/site-packages/tensorflow/python/framework/op_def_library.py:263: colocate_with (from tensorflow.python.framework.ops) is deprecated and will be removed in a future version.\n",
      "Instructions for updating:\n",
      "Colocations handled automatically by placer.\n",
      "WARNING:tensorflow:From /anaconda3/lib/python3.7/site-packages/tensorflow/python/ops/math_ops.py:3066: to_int32 (from tensorflow.python.ops.math_ops) is deprecated and will be removed in a future version.\n",
      "Instructions for updating:\n",
      "Use tf.cast instead.\n",
      "Epoch 1/50\n",
      "404/404 [==============================] - 1s 2ms/step - loss: 219.1590 - mean_squared_error: 219.1590 - mean_absolute_error: 10.9810\n",
      "Epoch 2/50\n",
      "404/404 [==============================] - 0s 267us/step - loss: 79.1741 - mean_squared_error: 79.1741 - mean_absolute_error: 6.4063\n",
      "Epoch 3/50\n",
      "404/404 [==============================] - 0s 277us/step - loss: 70.5368 - mean_squared_error: 70.5368 - mean_absolute_error: 6.0381\n",
      "Epoch 4/50\n",
      "404/404 [==============================] - 0s 273us/step - loss: 68.6770 - mean_squared_error: 68.6770 - mean_absolute_error: 5.9475\n",
      "Epoch 5/50\n",
      "404/404 [==============================] - 0s 275us/step - loss: 66.3181 - mean_squared_error: 66.3181 - mean_absolute_error: 5.8730\n",
      "Epoch 6/50\n",
      "404/404 [==============================] - 0s 281us/step - loss: 63.2104 - mean_squared_error: 63.2104 - mean_absolute_error: 5.7387\n",
      "Epoch 7/50\n",
      "404/404 [==============================] - 0s 261us/step - loss: 62.4238 - mean_squared_error: 62.4238 - mean_absolute_error: 5.7005\n",
      "Epoch 8/50\n",
      "404/404 [==============================] - 0s 255us/step - loss: 60.7267 - mean_squared_error: 60.7267 - mean_absolute_error: 5.6783\n",
      "Epoch 9/50\n",
      "404/404 [==============================] - 0s 306us/step - loss: 60.6376 - mean_squared_error: 60.6376 - mean_absolute_error: 5.5939\n",
      "Epoch 10/50\n",
      "404/404 [==============================] - 0s 266us/step - loss: 60.1123 - mean_squared_error: 60.1123 - mean_absolute_error: 5.6577\n",
      "Epoch 11/50\n",
      "404/404 [==============================] - 0s 252us/step - loss: 57.5284 - mean_squared_error: 57.5284 - mean_absolute_error: 5.4881\n",
      "Epoch 12/50\n",
      "404/404 [==============================] - 0s 251us/step - loss: 57.1368 - mean_squared_error: 57.1368 - mean_absolute_error: 5.5000\n",
      "Epoch 13/50\n",
      "404/404 [==============================] - 0s 278us/step - loss: 55.2073 - mean_squared_error: 55.2073 - mean_absolute_error: 5.4182\n",
      "Epoch 14/50\n",
      "404/404 [==============================] - 0s 269us/step - loss: 55.7870 - mean_squared_error: 55.7870 - mean_absolute_error: 5.4384\n",
      "Epoch 15/50\n",
      "404/404 [==============================] - 0s 290us/step - loss: 54.2405 - mean_squared_error: 54.2405 - mean_absolute_error: 5.3896\n",
      "Epoch 16/50\n",
      "404/404 [==============================] - 0s 271us/step - loss: 53.5913 - mean_squared_error: 53.5913 - mean_absolute_error: 5.3327\n",
      "Epoch 17/50\n",
      "404/404 [==============================] - 0s 270us/step - loss: 52.7751 - mean_squared_error: 52.7751 - mean_absolute_error: 5.2726\n",
      "Epoch 18/50\n",
      "404/404 [==============================] - 0s 256us/step - loss: 52.6658 - mean_squared_error: 52.6658 - mean_absolute_error: 5.3596\n",
      "Epoch 19/50\n",
      "404/404 [==============================] - 0s 247us/step - loss: 51.8441 - mean_squared_error: 51.8441 - mean_absolute_error: 5.2775\n",
      "Epoch 20/50\n",
      "404/404 [==============================] - 0s 254us/step - loss: 50.4038 - mean_squared_error: 50.4038 - mean_absolute_error: 5.2084\n",
      "Epoch 21/50\n",
      "404/404 [==============================] - 0s 253us/step - loss: 50.9615 - mean_squared_error: 50.9615 - mean_absolute_error: 5.2396\n",
      "Epoch 22/50\n",
      "404/404 [==============================] - 0s 252us/step - loss: 49.4609 - mean_squared_error: 49.4609 - mean_absolute_error: 5.2923\n",
      "Epoch 23/50\n",
      "404/404 [==============================] - 0s 260us/step - loss: 49.6189 - mean_squared_error: 49.6189 - mean_absolute_error: 5.2693\n",
      "Epoch 24/50\n",
      "404/404 [==============================] - 0s 261us/step - loss: 49.1560 - mean_squared_error: 49.1560 - mean_absolute_error: 5.1970\n",
      "Epoch 25/50\n",
      "404/404 [==============================] - 0s 260us/step - loss: 48.3328 - mean_squared_error: 48.3328 - mean_absolute_error: 5.1088\n",
      "Epoch 26/50\n",
      "404/404 [==============================] - 0s 264us/step - loss: 47.9707 - mean_squared_error: 47.9707 - mean_absolute_error: 5.2347\n",
      "Epoch 27/50\n",
      "404/404 [==============================] - 0s 249us/step - loss: 47.7362 - mean_squared_error: 47.7362 - mean_absolute_error: 5.1638\n",
      "Epoch 28/50\n",
      "404/404 [==============================] - 0s 244us/step - loss: 47.3366 - mean_squared_error: 47.3366 - mean_absolute_error: 5.1765\n",
      "Epoch 29/50\n",
      "404/404 [==============================] - 0s 253us/step - loss: 47.8945 - mean_squared_error: 47.8945 - mean_absolute_error: 5.2100\n",
      "Epoch 30/50\n",
      "404/404 [==============================] - 0s 270us/step - loss: 47.4230 - mean_squared_error: 47.4230 - mean_absolute_error: 5.2048\n",
      "Epoch 31/50\n",
      "404/404 [==============================] - 0s 251us/step - loss: 46.2307 - mean_squared_error: 46.2307 - mean_absolute_error: 5.0804\n",
      "Epoch 32/50\n",
      "404/404 [==============================] - 0s 261us/step - loss: 46.7363 - mean_squared_error: 46.7363 - mean_absolute_error: 5.1799\n",
      "Epoch 33/50\n",
      "404/404 [==============================] - 0s 291us/step - loss: 46.0402 - mean_squared_error: 46.0402 - mean_absolute_error: 5.0745\n",
      "Epoch 34/50\n",
      "404/404 [==============================] - 0s 302us/step - loss: 45.9835 - mean_squared_error: 45.9835 - mean_absolute_error: 5.0864\n",
      "Epoch 35/50\n",
      "404/404 [==============================] - 0s 620us/step - loss: 44.6255 - mean_squared_error: 44.6255 - mean_absolute_error: 5.0350\n",
      "Epoch 36/50\n",
      "404/404 [==============================] - 0s 449us/step - loss: 45.7557 - mean_squared_error: 45.7557 - mean_absolute_error: 5.1232\n",
      "Epoch 37/50\n",
      "404/404 [==============================] - 0s 333us/step - loss: 45.5796 - mean_squared_error: 45.5796 - mean_absolute_error: 5.0949\n",
      "Epoch 38/50\n",
      "404/404 [==============================] - 0s 583us/step - loss: 44.9927 - mean_squared_error: 44.9927 - mean_absolute_error: 5.0499\n",
      "Epoch 39/50\n",
      "404/404 [==============================] - 0s 590us/step - loss: 43.8064 - mean_squared_error: 43.8064 - mean_absolute_error: 5.0515\n",
      "Epoch 40/50\n",
      "404/404 [==============================] - 0s 800us/step - loss: 44.8353 - mean_squared_error: 44.8353 - mean_absolute_error: 5.0900\n",
      "Epoch 41/50\n",
      "404/404 [==============================] - 0s 631us/step - loss: 44.0433 - mean_squared_error: 44.0433 - mean_absolute_error: 4.9878\n",
      "Epoch 42/50\n",
      "404/404 [==============================] - 0s 557us/step - loss: 44.4747 - mean_squared_error: 44.4747 - mean_absolute_error: 5.0545\n",
      "Epoch 43/50\n",
      "404/404 [==============================] - 0s 591us/step - loss: 44.5306 - mean_squared_error: 44.5306 - mean_absolute_error: 5.0390\n",
      "Epoch 44/50\n",
      "404/404 [==============================] - 0s 500us/step - loss: 43.9107 - mean_squared_error: 43.9107 - mean_absolute_error: 5.0572\n",
      "Epoch 45/50\n",
      "404/404 [==============================] - 0s 614us/step - loss: 44.0610 - mean_squared_error: 44.0610 - mean_absolute_error: 5.0096\n",
      "Epoch 46/50\n",
      "404/404 [==============================] - 0s 910us/step - loss: 43.2444 - mean_squared_error: 43.2444 - mean_absolute_error: 4.9330\n",
      "Epoch 47/50\n",
      "404/404 [==============================] - 0s 552us/step - loss: 43.7265 - mean_squared_error: 43.7265 - mean_absolute_error: 5.0411\n",
      "Epoch 48/50\n",
      "404/404 [==============================] - 0s 387us/step - loss: 43.7924 - mean_squared_error: 43.7924 - mean_absolute_error: 4.9928\n",
      "Epoch 49/50\n",
      "404/404 [==============================] - 0s 842us/step - loss: 43.1190 - mean_squared_error: 43.1190 - mean_absolute_error: 4.9789\n",
      "Epoch 50/50\n",
      "404/404 [==============================] - 0s 418us/step - loss: 42.5706 - mean_squared_error: 42.5706 - mean_absolute_error: 4.8480\n"
     ]
    },
    {
     "data": {
      "text/plain": [
       "<keras.callbacks.History at 0xb3c462470>"
      ]
     },
     "execution_count": 10,
     "metadata": {},
     "output_type": "execute_result"
    }
   ],
   "source": [
    "nFeatures = X_train.shape[1]\n",
    "\n",
    "model = Sequential()\n",
    "model.add(Dense(1, input_shape=(nFeatures,), kernel_initializer='uniform'))\n",
    "model.add(Activation('linear'))\n",
    "\n",
    "model.compile(optimizer='rmsprop',  loss='mse', metrics=['mse', 'mae'])\n",
    "\n",
    "model.fit(X_train, Y_train, batch_size=4, epochs=50)"
   ]
  },
  {
   "cell_type": "code",
   "execution_count": 11,
   "metadata": {},
   "outputs": [
    {
     "name": "stdout",
     "output_type": "stream",
     "text": [
      "_________________________________________________________________\n",
      "Layer (type)                 Output Shape              Param #   \n",
      "=================================================================\n",
      "dense_1 (Dense)              (None, 1)                 14        \n",
      "_________________________________________________________________\n",
      "activation_1 (Activation)    (None, 1)                 0         \n",
      "=================================================================\n",
      "Total params: 14\n",
      "Trainable params: 14\n",
      "Non-trainable params: 0\n",
      "_________________________________________________________________\n",
      "102/102 [==============================] - 0s 2ms/step\n"
     ]
    },
    {
     "data": {
      "text/plain": [
       "[45.68982786290786, 45.68982786290786, 4.881851121491077]"
      ]
     },
     "execution_count": 11,
     "metadata": {},
     "output_type": "execute_result"
    }
   ],
   "source": [
    "model.summary()\n",
    "\n",
    "model.evaluate(X_test, Y_test, verbose=True)"
   ]
  },
  {
   "cell_type": "code",
   "execution_count": 12,
   "metadata": {},
   "outputs": [],
   "source": [
    "Y_pred = model.predict(X_test)"
   ]
  },
  {
   "cell_type": "code",
   "execution_count": 14,
   "metadata": {},
   "outputs": [
    {
     "name": "stdout",
     "output_type": "stream",
     "text": [
      "[ 7.2 18.8 19.  27.  22.2]\n",
      "[ 1.5446383 21.173504  21.855806  26.704973  23.449873 ]\n"
     ]
    }
   ],
   "source": [
    "print (Y_test[:5])\n",
    "print (Y_pred[:5,0])"
   ]
  },
  {
   "cell_type": "code",
   "execution_count": null,
   "metadata": {},
   "outputs": [],
   "source": []
  }
 ],
 "metadata": {
  "kernelspec": {
   "display_name": "Python 3",
   "language": "python",
   "name": "python3"
  },
  "language_info": {
   "codemirror_mode": {
    "name": "ipython",
    "version": 3
   },
   "file_extension": ".py",
   "mimetype": "text/x-python",
   "name": "python",
   "nbconvert_exporter": "python",
   "pygments_lexer": "ipython3",
   "version": "3.7.1"
  }
 },
 "nbformat": 4,
 "nbformat_minor": 2
}
