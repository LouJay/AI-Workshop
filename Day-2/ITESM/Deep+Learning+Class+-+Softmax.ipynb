{
 "cells": [
  {
   "cell_type": "code",
   "execution_count": 1,
   "metadata": {},
   "outputs": [],
   "source": [
    "import numpy as np \n",
    "import matplotlib.pyplot as plt\n",
    "%matplotlib inline"
   ]
  },
  {
   "cell_type": "code",
   "execution_count": 12,
   "metadata": {},
   "outputs": [
    {
     "name": "stdout",
     "output_type": "stream",
     "text": [
      "[1.0, 2.0, 3.0, 4.0, 1.0, 2.0, 3.0]\n"
     ]
    }
   ],
   "source": [
    "a = np.random.randn(10)\n",
    "a = [1.0, 2.0, 3.0, 4.0, 1.0, 2.0, 3.0]\n",
    "print (a)\n",
    "softmax_a = np.exp(a)/(np.exp(a)).sum()"
   ]
  },
  {
   "cell_type": "code",
   "execution_count": 13,
   "metadata": {
    "scrolled": true
   },
   "outputs": [
    {
     "data": {
      "image/png": "[encoded data removed]",
      "text/plain": [
       "<Figure size 432x288 with 2 Axes>"
      ]
     },
     "metadata": {},
     "output_type": "display_data"
    }
   ],
   "source": [
    "plt.subplot(1, 2, 1)\n",
    "plt.scatter(np.arange(0,len(a),1),a,color='red')\n",
    "plt.subplot(1, 2, 2)\n",
    "plt.scatter(np.arange(0,len(a),1),softmax_a,color='blue')\n",
    "plt.show()"
   ]
  },
  {
   "cell_type": "code",
   "execution_count": 9,
   "metadata": {},
   "outputs": [],
   "source": [
    "b = np.random.randn(100,2)\n",
    "expb = np.exp(b)\n",
    "softmax_b = expb/expb.sum(axis=1,keepdims=True)"
   ]
  },
  {
   "cell_type": "code",
   "execution_count": 10,
   "metadata": {},
   "outputs": [
    {
     "data": {
      "text/plain": [
       "array([[0.70456424, 0.29543576],\n",
       "       [0.38963832, 0.61036168],\n",
       "       [0.40992224, 0.59007776],\n",
       "       [0.5394397 , 0.4605603 ],\n",
       "       [0.38458963, 0.61541037],\n",
       "       [0.90028789, 0.09971211],\n",
       "       [0.88737905, 0.11262095],\n",
       "       [0.31640821, 0.68359179],\n",
       "       [0.80008156, 0.19991844],\n",
       "       [0.85429142, 0.14570858],\n",
       "       [0.94047851, 0.05952149],\n",
       "       [0.82735206, 0.17264794],\n",
       "       [0.25677396, 0.74322604],\n",
       "       [0.12150327, 0.87849673],\n",
       "       [0.78412083, 0.21587917],\n",
       "       [0.33421534, 0.66578466],\n",
       "       [0.47367894, 0.52632106],\n",
       "       [0.24629139, 0.75370861],\n",
       "       [0.38105187, 0.61894813],\n",
       "       [0.63073212, 0.36926788],\n",
       "       [0.32558268, 0.67441732],\n",
       "       [0.33146101, 0.66853899],\n",
       "       [0.66772778, 0.33227222],\n",
       "       [0.77909942, 0.22090058],\n",
       "       [0.24697232, 0.75302768],\n",
       "       [0.48262419, 0.51737581],\n",
       "       [0.4524494 , 0.5475506 ],\n",
       "       [0.01769665, 0.98230335],\n",
       "       [0.22978908, 0.77021092],\n",
       "       [0.64211801, 0.35788199],\n",
       "       [0.93723354, 0.06276646],\n",
       "       [0.24445477, 0.75554523],\n",
       "       [0.80211318, 0.19788682],\n",
       "       [0.93582331, 0.06417669],\n",
       "       [0.69655505, 0.30344495],\n",
       "       [0.26617725, 0.73382275],\n",
       "       [0.42756276, 0.57243724],\n",
       "       [0.24680854, 0.75319146],\n",
       "       [0.52272342, 0.47727658],\n",
       "       [0.69859828, 0.30140172],\n",
       "       [0.82123517, 0.17876483],\n",
       "       [0.88109665, 0.11890335],\n",
       "       [0.20403124, 0.79596876],\n",
       "       [0.83231274, 0.16768726],\n",
       "       [0.58802301, 0.41197699],\n",
       "       [0.61949785, 0.38050215],\n",
       "       [0.85944993, 0.14055007],\n",
       "       [0.14394435, 0.85605565],\n",
       "       [0.82587818, 0.17412182],\n",
       "       [0.15813603, 0.84186397],\n",
       "       [0.73288007, 0.26711993],\n",
       "       [0.1791168 , 0.8208832 ],\n",
       "       [0.13066335, 0.86933665],\n",
       "       [0.1242185 , 0.8757815 ],\n",
       "       [0.88962549, 0.11037451],\n",
       "       [0.36860141, 0.63139859],\n",
       "       [0.80871063, 0.19128937],\n",
       "       [0.57601026, 0.42398974],\n",
       "       [0.41159561, 0.58840439],\n",
       "       [0.08842105, 0.91157895],\n",
       "       [0.88166394, 0.11833606],\n",
       "       [0.61085975, 0.38914025],\n",
       "       [0.49684614, 0.50315386],\n",
       "       [0.76163969, 0.23836031],\n",
       "       [0.87196788, 0.12803212],\n",
       "       [0.23315628, 0.76684372],\n",
       "       [0.60268971, 0.39731029],\n",
       "       [0.1776027 , 0.8223973 ],\n",
       "       [0.25358428, 0.74641572],\n",
       "       [0.38146782, 0.61853218],\n",
       "       [0.50784252, 0.49215748],\n",
       "       [0.23504828, 0.76495172],\n",
       "       [0.28741281, 0.71258719],\n",
       "       [0.16465942, 0.83534058],\n",
       "       [0.1861571 , 0.8138429 ],\n",
       "       [0.10099881, 0.89900119],\n",
       "       [0.64565194, 0.35434806],\n",
       "       [0.5196681 , 0.4803319 ],\n",
       "       [0.66608476, 0.33391524],\n",
       "       [0.68787171, 0.31212829],\n",
       "       [0.11213527, 0.88786473],\n",
       "       [0.6106355 , 0.3893645 ],\n",
       "       [0.14241181, 0.85758819],\n",
       "       [0.43415443, 0.56584557],\n",
       "       [0.15433081, 0.84566919],\n",
       "       [0.87696839, 0.12303161],\n",
       "       [0.04991204, 0.95008796],\n",
       "       [0.64540582, 0.35459418],\n",
       "       [0.64442128, 0.35557872],\n",
       "       [0.95791222, 0.04208778],\n",
       "       [0.58798202, 0.41201798],\n",
       "       [0.7754336 , 0.2245664 ],\n",
       "       [0.23136094, 0.76863906],\n",
       "       [0.2297434 , 0.7702566 ],\n",
       "       [0.39732262, 0.60267738],\n",
       "       [0.44348124, 0.55651876],\n",
       "       [0.63827922, 0.36172078],\n",
       "       [0.5217892 , 0.4782108 ],\n",
       "       [0.06355024, 0.93644976],\n",
       "       [0.81418852, 0.18581148]])"
      ]
     },
     "execution_count": 10,
     "metadata": {},
     "output_type": "execute_result"
    }
   ],
   "source": [
    "softmax_b"
   ]
  },
  {
   "cell_type": "code",
   "execution_count": 11,
   "metadata": {},
   "outputs": [
    {
     "data": {
      "text/plain": [
       "array([1., 1., 1., 1., 1., 1., 1., 1., 1., 1., 1., 1., 1., 1., 1., 1., 1.,\n",
       "       1., 1., 1., 1., 1., 1., 1., 1., 1., 1., 1., 1., 1., 1., 1., 1., 1.,\n",
       "       1., 1., 1., 1., 1., 1., 1., 1., 1., 1., 1., 1., 1., 1., 1., 1., 1.,\n",
       "       1., 1., 1., 1., 1., 1., 1., 1., 1., 1., 1., 1., 1., 1., 1., 1., 1.,\n",
       "       1., 1., 1., 1., 1., 1., 1., 1., 1., 1., 1., 1., 1., 1., 1., 1., 1.,\n",
       "       1., 1., 1., 1., 1., 1., 1., 1., 1., 1., 1., 1., 1., 1., 1.])"
      ]
     },
     "execution_count": 11,
     "metadata": {},
     "output_type": "execute_result"
    }
   ],
   "source": [
    "softmax_b.sum(axis=1)"
   ]
  },
  {
   "cell_type": "code",
   "execution_count": null,
   "metadata": {
    "collapsed": true
   },
   "outputs": [],
   "source": []
  }
 ],
 "metadata": {
  "anaconda-cloud": {},
  "kernelspec": {
   "display_name": "Python 2",
   "language": "python",
   "name": "python2"
  },
  "language_info": {
   "codemirror_mode": {
    "name": "ipython",
    "version": 3
   },
   "file_extension": ".py",
   "mimetype": "text/x-python",
   "name": "python",
   "nbconvert_exporter": "python",
   "pygments_lexer": "ipython3",
   "version": "3.5.2"
  }
 },
 "nbformat": 4,
 "nbformat_minor": 1
}
